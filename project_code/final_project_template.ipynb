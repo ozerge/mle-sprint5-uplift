{
 "cells": [
  {
   "cell_type": "markdown",
   "metadata": {},
   "source": [
    "# Часть 1"
   ]
  },
  {
   "cell_type": "markdown",
   "metadata": {},
   "source": [
    "## Проект. Методы uplift-моделирования  \n",
    "\n",
    "## Описание задачи  \n",
    "В этот раз вы будете работать с Яндекс Едой. Ваша задача — определить целевую аудиторию, которой можно предложить промокод на 500 рублей на доставку еды из ресторанов. Цель этого предложения — побудить пользователей совершать покупки чаще. Конверсией в таком контексте можно считать успешное использование промокода, ведь тогда частота заказов увеличится, а доход компании возрастёт.  \n",
    "\n",
    "## Проблема  \n",
    "Отбор целевой аудитории для предложения промокодов представляет собой проблему в разработке эффективных маркетинговых стратегий. Неправильный выбор ЦА может привести к неэффективным расходам на маркетинг и снижению конверсии.  \n",
    "\n",
    "## Бизнес-задача\n",
    "Разработать эффективную систему, которая позволит точно идентифицировать нужную целевую аудиторию. Это повысит конверсию использования промокодов и приведёт к увеличению доходов компании.\n",
    "Точный выбор целевой аудитории — ключевой фактор для роста продаж. От него напрямую зависит, насколько хорошо сработает предложение. Однако текущие подходы часто промахиваются, не позволяя понять, кто действительно воспользуется предложением. В результате деньги на маркетинг тратятся впустую. Поэтому компании необходима модель, которая поможет точно находить нужных пользователей и достигать бизнес-целей без лишних затрат.  \n",
    "\n",
    "## Цель проекта \n",
    "Cоздать с нуля uplift-модель на основе данных A/B-теста. Она поможет точнее выбирать клиентов, которым действительно стоит предлагать промокоды. Это не только повысит конверсию, но и улучшит финальные показатели бизнеса.\n",
    "\n",
    "## Описание датасета\n",
    "Датасет содержит 64 000 клиентов, которые совершили последнюю покупку в течение последних двенадцати месяцев. Клиенты участвовали в тестировании по мобильному каналу.  \n",
    "\n",
    "Столбцы:  \n",
    "`recency` — количество месяцев с момента последней покупки. Этот атрибут помогает понять, как долго клиент не совершал покупок (индикатором его вовлечённости).  \n",
    "`history_segment` — категоризация расходов клиента за последний год. Этот атрибут позволяет сегментировать клиентов по уровню их трат (помощь в таргетировании предложений).  \n",
    "`history` — фактическая сумма (в $), потраченная клиентом за последний год. Этот атрибут предоставляет информацию о финансовом поведении клиента.  \n",
    "`mens` — индикатор (1/0), где 1 означает, что клиент покупал товары для мужчин в течение последнего года. Это помогает определить предпочтения клиента.  \n",
    "`womens` — индикатор (1/0), где 1 означает, что клиент покупал товары для женщин в течение последнего года. Это также помогает определить предпочтения клиента.  \n",
    "`zip_code` — классификация почтового индекса (город, пригород, село). Этот атрибут может быть полезен для географического анализа клиентов.  \n",
    "`newbie` — индикатор (1/0), где 1 обозначает нового клиента (в течение последних двенадцати месяцев). Это поможет оценить эффективность маркетинговых стратегий для привлечения новых клиентов.  \n",
    "`channel` — описание каналов, через которые клиент совершал покупки в течение последнего года. Этот атрибут поможет с анализом предпочтений клиентов по каналам продаж (0 — мультиканал, 1 — мобильный, 2 — веб).  \n",
    "`treatment` — индикатор (1/0), где 1 означает, что клиент получил промокод. Этот атрибут позволяет оценить влияние предложения на поведение клиента и его решение о покупке.  \n",
    "`target` — индикатор (1/0), где 1 означает, что клиент успешно использовал промокод.  "
   ]
  },
  {
   "cell_type": "markdown",
   "metadata": {},
   "source": [
    "## Этап 1"
   ]
  },
  {
   "cell_type": "code",
   "execution_count": 1,
   "metadata": {},
   "outputs": [],
   "source": [
    "import pandas as pd\n",
    "import numpy as np\n",
    "import matplotlib.pyplot as plt\n",
    "import seaborn as sns\n",
    "from scipy.stats import ttest_ind\n",
    "from scipy import stats"
   ]
  },
  {
   "cell_type": "code",
   "execution_count": 3,
   "metadata": {},
   "outputs": [
    {
     "name": "stdout",
     "output_type": "stream",
     "text": [
      "Файл успешно загружен\n"
     ]
    }
   ],
   "source": [
    "# Открываем и сохраняем файл uplift_fp_data.csv в датафрейм из директории или по ссылке:\n",
    "try:\n",
    "    df = pd.read_csv('uplift_fp_data.csv')\n",
    "    print(\"Файл найден локально\")\n",
    "except:\n",
    "    url = \"https://raw.githubusercontent.com/yandex-praktikum/mle-uplift-final-project-2025/main/uplift_fp_data.csv\"\n",
    "    try:\n",
    "        df = pd.read_csv(url)\n",
    "        print(\"Файл успешно загружен\")\n",
    "        # Сохраняем локально\n",
    "        df.to_csv('uplift_fp_data.csv', index=False)\n",
    "    except Exception as e:\n",
    "        print(f\"Ошибка: {e}\")\n",
    "        df = pd.DataFrame()"
   ]
  },
  {
   "cell_type": "code",
   "execution_count": 6,
   "metadata": {},
   "outputs": [
    {
     "data": {
      "text/html": [
       "<div>\n",
       "<style scoped>\n",
       "    .dataframe tbody tr th:only-of-type {\n",
       "        vertical-align: middle;\n",
       "    }\n",
       "\n",
       "    .dataframe tbody tr th {\n",
       "        vertical-align: top;\n",
       "    }\n",
       "\n",
       "    .dataframe thead th {\n",
       "        text-align: right;\n",
       "    }\n",
       "</style>\n",
       "<table border=\"1\" class=\"dataframe\">\n",
       "  <thead>\n",
       "    <tr style=\"text-align: right;\">\n",
       "      <th></th>\n",
       "      <th>recency</th>\n",
       "      <th>history_segment</th>\n",
       "      <th>history</th>\n",
       "      <th>mens</th>\n",
       "      <th>womens</th>\n",
       "      <th>zip_code</th>\n",
       "      <th>newbie</th>\n",
       "      <th>channel</th>\n",
       "      <th>treatment</th>\n",
       "      <th>target</th>\n",
       "    </tr>\n",
       "  </thead>\n",
       "  <tbody>\n",
       "    <tr>\n",
       "      <th>0</th>\n",
       "      <td>10</td>\n",
       "      <td>1</td>\n",
       "      <td>142.44</td>\n",
       "      <td>1</td>\n",
       "      <td>0</td>\n",
       "      <td>1</td>\n",
       "      <td>0</td>\n",
       "      <td>1</td>\n",
       "      <td>1</td>\n",
       "      <td>0</td>\n",
       "    </tr>\n",
       "    <tr>\n",
       "      <th>1</th>\n",
       "      <td>6</td>\n",
       "      <td>2</td>\n",
       "      <td>329.08</td>\n",
       "      <td>1</td>\n",
       "      <td>1</td>\n",
       "      <td>2</td>\n",
       "      <td>1</td>\n",
       "      <td>2</td>\n",
       "      <td>0</td>\n",
       "      <td>0</td>\n",
       "    </tr>\n",
       "    <tr>\n",
       "      <th>2</th>\n",
       "      <td>7</td>\n",
       "      <td>1</td>\n",
       "      <td>180.65</td>\n",
       "      <td>0</td>\n",
       "      <td>1</td>\n",
       "      <td>1</td>\n",
       "      <td>1</td>\n",
       "      <td>2</td>\n",
       "      <td>1</td>\n",
       "      <td>0</td>\n",
       "    </tr>\n",
       "    <tr>\n",
       "      <th>3</th>\n",
       "      <td>9</td>\n",
       "      <td>4</td>\n",
       "      <td>675.83</td>\n",
       "      <td>1</td>\n",
       "      <td>0</td>\n",
       "      <td>2</td>\n",
       "      <td>1</td>\n",
       "      <td>2</td>\n",
       "      <td>0</td>\n",
       "      <td>0</td>\n",
       "    </tr>\n",
       "    <tr>\n",
       "      <th>4</th>\n",
       "      <td>2</td>\n",
       "      <td>0</td>\n",
       "      <td>45.34</td>\n",
       "      <td>1</td>\n",
       "      <td>0</td>\n",
       "      <td>0</td>\n",
       "      <td>0</td>\n",
       "      <td>2</td>\n",
       "      <td>1</td>\n",
       "      <td>0</td>\n",
       "    </tr>\n",
       "    <tr>\n",
       "      <th>...</th>\n",
       "      <td>...</td>\n",
       "      <td>...</td>\n",
       "      <td>...</td>\n",
       "      <td>...</td>\n",
       "      <td>...</td>\n",
       "      <td>...</td>\n",
       "      <td>...</td>\n",
       "      <td>...</td>\n",
       "      <td>...</td>\n",
       "      <td>...</td>\n",
       "    </tr>\n",
       "    <tr>\n",
       "      <th>63995</th>\n",
       "      <td>10</td>\n",
       "      <td>1</td>\n",
       "      <td>105.54</td>\n",
       "      <td>1</td>\n",
       "      <td>0</td>\n",
       "      <td>0</td>\n",
       "      <td>0</td>\n",
       "      <td>2</td>\n",
       "      <td>0</td>\n",
       "      <td>0</td>\n",
       "    </tr>\n",
       "    <tr>\n",
       "      <th>63996</th>\n",
       "      <td>5</td>\n",
       "      <td>0</td>\n",
       "      <td>38.91</td>\n",
       "      <td>0</td>\n",
       "      <td>1</td>\n",
       "      <td>0</td>\n",
       "      <td>1</td>\n",
       "      <td>1</td>\n",
       "      <td>0</td>\n",
       "      <td>0</td>\n",
       "    </tr>\n",
       "    <tr>\n",
       "      <th>63997</th>\n",
       "      <td>6</td>\n",
       "      <td>0</td>\n",
       "      <td>29.99</td>\n",
       "      <td>1</td>\n",
       "      <td>0</td>\n",
       "      <td>0</td>\n",
       "      <td>1</td>\n",
       "      <td>1</td>\n",
       "      <td>0</td>\n",
       "      <td>0</td>\n",
       "    </tr>\n",
       "    <tr>\n",
       "      <th>63998</th>\n",
       "      <td>1</td>\n",
       "      <td>4</td>\n",
       "      <td>552.94</td>\n",
       "      <td>1</td>\n",
       "      <td>0</td>\n",
       "      <td>1</td>\n",
       "      <td>1</td>\n",
       "      <td>0</td>\n",
       "      <td>1</td>\n",
       "      <td>0</td>\n",
       "    </tr>\n",
       "    <tr>\n",
       "      <th>63999</th>\n",
       "      <td>1</td>\n",
       "      <td>3</td>\n",
       "      <td>472.82</td>\n",
       "      <td>0</td>\n",
       "      <td>1</td>\n",
       "      <td>1</td>\n",
       "      <td>0</td>\n",
       "      <td>2</td>\n",
       "      <td>0</td>\n",
       "      <td>0</td>\n",
       "    </tr>\n",
       "  </tbody>\n",
       "</table>\n",
       "<p>64000 rows × 10 columns</p>\n",
       "</div>"
      ],
      "text/plain": [
       "       recency  history_segment  history  mens  womens  zip_code  newbie  \\\n",
       "0           10                1   142.44     1       0         1       0   \n",
       "1            6                2   329.08     1       1         2       1   \n",
       "2            7                1   180.65     0       1         1       1   \n",
       "3            9                4   675.83     1       0         2       1   \n",
       "4            2                0    45.34     1       0         0       0   \n",
       "...        ...              ...      ...   ...     ...       ...     ...   \n",
       "63995       10                1   105.54     1       0         0       0   \n",
       "63996        5                0    38.91     0       1         0       1   \n",
       "63997        6                0    29.99     1       0         0       1   \n",
       "63998        1                4   552.94     1       0         1       1   \n",
       "63999        1                3   472.82     0       1         1       0   \n",
       "\n",
       "       channel  treatment  target  \n",
       "0            1          1       0  \n",
       "1            2          0       0  \n",
       "2            2          1       0  \n",
       "3            2          0       0  \n",
       "4            2          1       0  \n",
       "...        ...        ...     ...  \n",
       "63995        2          0       0  \n",
       "63996        1          0       0  \n",
       "63997        1          0       0  \n",
       "63998        0          1       0  \n",
       "63999        2          0       0  \n",
       "\n",
       "[64000 rows x 10 columns]"
      ]
     },
     "execution_count": 6,
     "metadata": {},
     "output_type": "execute_result"
    }
   ],
   "source": [
    "df"
   ]
  },
  {
   "cell_type": "code",
   "execution_count": 19,
   "metadata": {},
   "outputs": [
    {
     "name": "stdout",
     "output_type": "stream",
     "text": [
      "\n",
      "Информация о датасете:\n",
      "<class 'pandas.core.frame.DataFrame'>\n",
      "RangeIndex: 64000 entries, 0 to 63999\n",
      "Data columns (total 10 columns):\n",
      " #   Column           Non-Null Count  Dtype  \n",
      "---  ------           --------------  -----  \n",
      " 0   recency          64000 non-null  int64  \n",
      " 1   history_segment  64000 non-null  int64  \n",
      " 2   history          64000 non-null  float64\n",
      " 3   mens             64000 non-null  int64  \n",
      " 4   womens           64000 non-null  int64  \n",
      " 5   zip_code         64000 non-null  int64  \n",
      " 6   newbie           64000 non-null  int64  \n",
      " 7   channel          64000 non-null  int64  \n",
      " 8   treatment        64000 non-null  int64  \n",
      " 9   target           64000 non-null  int64  \n",
      "dtypes: float64(1), int64(9)\n",
      "memory usage: 4.9 MB\n"
     ]
    }
   ],
   "source": [
    "# Проверяем информацию о данных\n",
    "print(\"\\nИнформация о датасете:\")\n",
    "df.info()"
   ]
  },
  {
   "cell_type": "code",
   "execution_count": 8,
   "metadata": {},
   "outputs": [
    {
     "name": "stdout",
     "output_type": "stream",
     "text": [
      "\n",
      "Основные статистики:\n"
     ]
    },
    {
     "data": {
      "text/html": [
       "<div>\n",
       "<style scoped>\n",
       "    .dataframe tbody tr th:only-of-type {\n",
       "        vertical-align: middle;\n",
       "    }\n",
       "\n",
       "    .dataframe tbody tr th {\n",
       "        vertical-align: top;\n",
       "    }\n",
       "\n",
       "    .dataframe thead th {\n",
       "        text-align: right;\n",
       "    }\n",
       "</style>\n",
       "<table border=\"1\" class=\"dataframe\">\n",
       "  <thead>\n",
       "    <tr style=\"text-align: right;\">\n",
       "      <th></th>\n",
       "      <th>recency</th>\n",
       "      <th>history_segment</th>\n",
       "      <th>history</th>\n",
       "      <th>mens</th>\n",
       "      <th>womens</th>\n",
       "      <th>zip_code</th>\n",
       "      <th>newbie</th>\n",
       "      <th>channel</th>\n",
       "      <th>treatment</th>\n",
       "      <th>target</th>\n",
       "    </tr>\n",
       "  </thead>\n",
       "  <tbody>\n",
       "    <tr>\n",
       "      <th>count</th>\n",
       "      <td>64000.000000</td>\n",
       "      <td>64000.000000</td>\n",
       "      <td>64000.000000</td>\n",
       "      <td>64000.000000</td>\n",
       "      <td>64000.000000</td>\n",
       "      <td>64000.000000</td>\n",
       "      <td>64000.000000</td>\n",
       "      <td>64000.000000</td>\n",
       "      <td>64000.000000</td>\n",
       "      <td>64000.000000</td>\n",
       "    </tr>\n",
       "    <tr>\n",
       "      <th>mean</th>\n",
       "      <td>5.763734</td>\n",
       "      <td>1.481969</td>\n",
       "      <td>242.085656</td>\n",
       "      <td>0.551031</td>\n",
       "      <td>0.549719</td>\n",
       "      <td>0.748469</td>\n",
       "      <td>0.502250</td>\n",
       "      <td>1.319609</td>\n",
       "      <td>0.334172</td>\n",
       "      <td>0.146781</td>\n",
       "    </tr>\n",
       "    <tr>\n",
       "      <th>std</th>\n",
       "      <td>3.507592</td>\n",
       "      <td>1.544514</td>\n",
       "      <td>256.158608</td>\n",
       "      <td>0.497393</td>\n",
       "      <td>0.497526</td>\n",
       "      <td>0.697936</td>\n",
       "      <td>0.499999</td>\n",
       "      <td>0.678254</td>\n",
       "      <td>0.471704</td>\n",
       "      <td>0.353890</td>\n",
       "    </tr>\n",
       "    <tr>\n",
       "      <th>min</th>\n",
       "      <td>1.000000</td>\n",
       "      <td>0.000000</td>\n",
       "      <td>29.990000</td>\n",
       "      <td>0.000000</td>\n",
       "      <td>0.000000</td>\n",
       "      <td>0.000000</td>\n",
       "      <td>0.000000</td>\n",
       "      <td>0.000000</td>\n",
       "      <td>0.000000</td>\n",
       "      <td>0.000000</td>\n",
       "    </tr>\n",
       "    <tr>\n",
       "      <th>25%</th>\n",
       "      <td>2.000000</td>\n",
       "      <td>0.000000</td>\n",
       "      <td>64.660000</td>\n",
       "      <td>0.000000</td>\n",
       "      <td>0.000000</td>\n",
       "      <td>0.000000</td>\n",
       "      <td>0.000000</td>\n",
       "      <td>1.000000</td>\n",
       "      <td>0.000000</td>\n",
       "      <td>0.000000</td>\n",
       "    </tr>\n",
       "    <tr>\n",
       "      <th>50%</th>\n",
       "      <td>6.000000</td>\n",
       "      <td>1.000000</td>\n",
       "      <td>158.110000</td>\n",
       "      <td>1.000000</td>\n",
       "      <td>1.000000</td>\n",
       "      <td>1.000000</td>\n",
       "      <td>1.000000</td>\n",
       "      <td>1.000000</td>\n",
       "      <td>0.000000</td>\n",
       "      <td>0.000000</td>\n",
       "    </tr>\n",
       "    <tr>\n",
       "      <th>75%</th>\n",
       "      <td>9.000000</td>\n",
       "      <td>2.000000</td>\n",
       "      <td>325.657500</td>\n",
       "      <td>1.000000</td>\n",
       "      <td>1.000000</td>\n",
       "      <td>1.000000</td>\n",
       "      <td>1.000000</td>\n",
       "      <td>2.000000</td>\n",
       "      <td>1.000000</td>\n",
       "      <td>0.000000</td>\n",
       "    </tr>\n",
       "    <tr>\n",
       "      <th>max</th>\n",
       "      <td>12.000000</td>\n",
       "      <td>6.000000</td>\n",
       "      <td>3345.930000</td>\n",
       "      <td>1.000000</td>\n",
       "      <td>1.000000</td>\n",
       "      <td>2.000000</td>\n",
       "      <td>1.000000</td>\n",
       "      <td>2.000000</td>\n",
       "      <td>1.000000</td>\n",
       "      <td>1.000000</td>\n",
       "    </tr>\n",
       "  </tbody>\n",
       "</table>\n",
       "</div>"
      ],
      "text/plain": [
       "            recency  history_segment       history          mens  \\\n",
       "count  64000.000000     64000.000000  64000.000000  64000.000000   \n",
       "mean       5.763734         1.481969    242.085656      0.551031   \n",
       "std        3.507592         1.544514    256.158608      0.497393   \n",
       "min        1.000000         0.000000     29.990000      0.000000   \n",
       "25%        2.000000         0.000000     64.660000      0.000000   \n",
       "50%        6.000000         1.000000    158.110000      1.000000   \n",
       "75%        9.000000         2.000000    325.657500      1.000000   \n",
       "max       12.000000         6.000000   3345.930000      1.000000   \n",
       "\n",
       "             womens      zip_code        newbie       channel     treatment  \\\n",
       "count  64000.000000  64000.000000  64000.000000  64000.000000  64000.000000   \n",
       "mean       0.549719      0.748469      0.502250      1.319609      0.334172   \n",
       "std        0.497526      0.697936      0.499999      0.678254      0.471704   \n",
       "min        0.000000      0.000000      0.000000      0.000000      0.000000   \n",
       "25%        0.000000      0.000000      0.000000      1.000000      0.000000   \n",
       "50%        1.000000      1.000000      1.000000      1.000000      0.000000   \n",
       "75%        1.000000      1.000000      1.000000      2.000000      1.000000   \n",
       "max        1.000000      2.000000      1.000000      2.000000      1.000000   \n",
       "\n",
       "             target  \n",
       "count  64000.000000  \n",
       "mean       0.146781  \n",
       "std        0.353890  \n",
       "min        0.000000  \n",
       "25%        0.000000  \n",
       "50%        0.000000  \n",
       "75%        0.000000  \n",
       "max        1.000000  "
      ]
     },
     "execution_count": 8,
     "metadata": {},
     "output_type": "execute_result"
    }
   ],
   "source": [
    "# Проверяем основные статистики\n",
    "print(\"\\nОсновные статистики:\")\n",
    "df.describe()"
   ]
  },
  {
   "cell_type": "code",
   "execution_count": 9,
   "metadata": {},
   "outputs": [
    {
     "name": "stdout",
     "output_type": "stream",
     "text": [
      "\n",
      "Уникальные значения в категориальных переменных:\n",
      "history_segment: [1 2 4 0 5 3 6]\n",
      "zip_code: [1 2 0]\n",
      "newbie: [0 1]\n",
      "channel: [1 2 0]\n",
      "treatment: [1 0]\n",
      "target: [0 1]\n",
      "mens: [1 0]\n",
      "womens: [0 1]\n"
     ]
    }
   ],
   "source": [
    "# Проверяем уникальные значения в категориальных переменных\n",
    "print(\"\\nУникальные значения в категориальных переменных:\")\n",
    "categorical_cols = ['history_segment', 'zip_code', 'newbie', 'channel', 'treatment', 'target', 'mens', 'womens']\n",
    "for col in categorical_cols:\n",
    "    print(f\"{col}: {df[col].unique()}\")"
   ]
  },
  {
   "cell_type": "markdown",
   "metadata": {},
   "source": [
    "- Импортированы библиотеки\n",
    "- Загружен датасет: 64,000 строк × 10 столбцов\n",
    "- Данные соответствуют описанию\n",
    "- Пропуски отсутствуют"
   ]
  },
  {
   "cell_type": "markdown",
   "metadata": {},
   "source": [
    "## Этап 2"
   ]
  },
  {
   "cell_type": "markdown",
   "metadata": {},
   "source": [
    "### EDA\n"
   ]
  },
  {
   "cell_type": "code",
   "execution_count": null,
   "metadata": {},
   "outputs": [],
   "source": []
  },
  {
   "cell_type": "markdown",
   "metadata": {},
   "source": [
    "Сделайте вывод на основе EDA в данной ячейке"
   ]
  },
  {
   "cell_type": "markdown",
   "metadata": {},
   "source": [
    "# Этап 2"
   ]
  },
  {
   "cell_type": "markdown",
   "metadata": {},
   "source": [
    "### Проверка на статистическую значимость"
   ]
  },
  {
   "cell_type": "markdown",
   "metadata": {},
   "source": [
    "Обоснуйте выбор статистического теста в данной ячейке"
   ]
  },
  {
   "cell_type": "code",
   "execution_count": null,
   "metadata": {},
   "outputs": [],
   "source": []
  },
  {
   "cell_type": "markdown",
   "metadata": {},
   "source": [
    "## Построение корреляций"
   ]
  },
  {
   "cell_type": "code",
   "execution_count": null,
   "metadata": {},
   "outputs": [],
   "source": []
  },
  {
   "cell_type": "markdown",
   "metadata": {},
   "source": [
    "Сделайте вывод о корреляциях признаков друг с другом и таргетом в этой ячейке"
   ]
  },
  {
   "cell_type": "markdown",
   "metadata": {},
   "source": [
    "## Этап 3"
   ]
  },
  {
   "cell_type": "markdown",
   "metadata": {},
   "source": [
    "Обоснуйте выбор конкретной uplift модели в данной ячейке"
   ]
  },
  {
   "cell_type": "markdown",
   "metadata": {},
   "source": [
    "### Советы по обучению и инференсу моделей\n",
    "1. Некоторые uplift модели из библиотеки `causalml` будут требовать категориальные значения воздействия. Для этого используйте маппинг\n",
    "#### Пример использования маппинга\n",
    "```python\n",
    "treatment_mapping = {\n",
    "    0: 'control',\n",
    "    1: 'treatment'\n",
    "}\n",
    "treatment_train_mapped = treatment_train.map(treatment_mapping)\n",
    "treatment_test_mapped = treatment_test.map(treatment_mapping)\n",
    "```\n",
    "\n",
    "2. При вызове метода `.predict` и получения метрик для тестовой выборки не забывайте применять к прогнозам метод `squeeze()`, чтобы преобразовать многомерный массив в одномерный, что поможет получить адекватные метрики.\n",
    "\n",
    "3. Для воспроизводимости результатов и объективной оценки не забывайте применять `random_state=42` для моделей, а также при разделении выборки"
   ]
  },
  {
   "cell_type": "markdown",
   "metadata": {},
   "source": [
    "### Разбиение выборки на тренировочную и тестовую"
   ]
  },
  {
   "cell_type": "code",
   "execution_count": null,
   "metadata": {},
   "outputs": [],
   "source": []
  },
  {
   "cell_type": "markdown",
   "metadata": {},
   "source": [
    "### Обучение выбранного бейзлайна"
   ]
  },
  {
   "cell_type": "code",
   "execution_count": null,
   "metadata": {},
   "outputs": [],
   "source": []
  },
  {
   "cell_type": "markdown",
   "metadata": {},
   "source": [
    "### Расчет метрик для выбранного бейзлайна на тестовой выборке"
   ]
  },
  {
   "cell_type": "code",
   "execution_count": null,
   "metadata": {},
   "outputs": [],
   "source": []
  },
  {
   "cell_type": "markdown",
   "metadata": {},
   "source": [
    "# Обучение 2 моделей "
   ]
  },
  {
   "cell_type": "markdown",
   "metadata": {},
   "source": [
    "### Обучение модели 1"
   ]
  },
  {
   "cell_type": "code",
   "execution_count": null,
   "metadata": {},
   "outputs": [],
   "source": []
  },
  {
   "cell_type": "markdown",
   "metadata": {},
   "source": [
    "### Получение метрик по модели 1"
   ]
  },
  {
   "cell_type": "code",
   "execution_count": null,
   "metadata": {},
   "outputs": [],
   "source": []
  },
  {
   "cell_type": "markdown",
   "metadata": {},
   "source": [
    "### Обучение модели 2"
   ]
  },
  {
   "cell_type": "code",
   "execution_count": null,
   "metadata": {},
   "outputs": [],
   "source": []
  },
  {
   "cell_type": "markdown",
   "metadata": {},
   "source": [
    "### Получение метрик по модели 2"
   ]
  },
  {
   "cell_type": "code",
   "execution_count": null,
   "metadata": {},
   "outputs": [],
   "source": []
  },
  {
   "cell_type": "markdown",
   "metadata": {},
   "source": [
    "Проинтерпретируйте полученные результаты и обоснуйте выбор 1 модели в этой ячейке"
   ]
  },
  {
   "cell_type": "markdown",
   "metadata": {},
   "source": [
    "# Часть 2"
   ]
  },
  {
   "cell_type": "markdown",
   "metadata": {},
   "source": [
    "## Этап 1\n",
    "Улучшите бейзлайн выбранной модели"
   ]
  },
  {
   "cell_type": "code",
   "execution_count": null,
   "metadata": {},
   "outputs": [],
   "source": []
  },
  {
   "cell_type": "markdown",
   "metadata": {},
   "source": [
    "#### Генерация признаков (опционально)"
   ]
  },
  {
   "cell_type": "code",
   "execution_count": null,
   "metadata": {},
   "outputs": [],
   "source": []
  },
  {
   "cell_type": "markdown",
   "metadata": {},
   "source": [
    "### Подбор гиперпараметров"
   ]
  },
  {
   "cell_type": "code",
   "execution_count": null,
   "metadata": {},
   "outputs": [],
   "source": [
    "from optuna import create_study\n",
    "from sklift.metrics import uplift_at_k\n",
    "\n",
    "def objective(trial):\n",
    "    # Дополните код для подбора гиперпараметров\n",
    "\n",
    "    uplift_at_30 = uplift_at_k(y_test, uplift_pred, treatment_test, k=0.3, strategy='overall')\n",
    "    return uplift_at_30\n",
    "\n",
    "# Создаем и запускаем исследование\n",
    "study = create_study(direction='maximize')\n",
    "study.optimize(objective, n_trials=100)\n",
    "\n",
    "# Выводим лучшие гиперпараметры\n",
    "print(\"Best hyperparameters: \", study.best_params)\n",
    "print(\"Best score: \", study.best_value)\n"
   ]
  },
  {
   "cell_type": "markdown",
   "metadata": {},
   "source": [
    "## Этап 2"
   ]
  },
  {
   "cell_type": "markdown",
   "metadata": {},
   "source": [
    "### Визуализация результатов"
   ]
  },
  {
   "cell_type": "code",
   "execution_count": null,
   "metadata": {},
   "outputs": [],
   "source": [
    "from utils import custom_uplift_by_percentile"
   ]
  },
  {
   "cell_type": "code",
   "execution_count": null,
   "metadata": {},
   "outputs": [],
   "source": []
  },
  {
   "cell_type": "code",
   "execution_count": null,
   "metadata": {},
   "outputs": [],
   "source": []
  },
  {
   "cell_type": "markdown",
   "metadata": {},
   "source": [
    "В данной ячейке сделайте вывод о качестве работы модели и проинтерпретируйте график `uplift by percentile` "
   ]
  },
  {
   "cell_type": "markdown",
   "metadata": {},
   "source": [
    "# Этап 3"
   ]
  },
  {
   "cell_type": "code",
   "execution_count": null,
   "metadata": {},
   "outputs": [],
   "source": [
    "# Класс для инференса модели\n",
    "class UpliftModelInference:\n",
    "    \"\"\"\n",
    "    Класс для инференса uplift модели.\n",
    "    \"\"\"\n",
    "    \n",
    "    def __init__(self, model, feature_names, logger=None):\n",
    "        \"\"\"\n",
    "        Инициализация класса.\n",
    "        \n",
    "        Аргументы:\n",
    "            model: Обученная модель uplift\n",
    "            feature_names: Список признаков для предсказания \n",
    "            logger: Объект для логирования (по умолчанию None)\n",
    "        \"\"\"\n",
    "        self.model = model\n",
    "        self.feature_names = ['recency', 'history_segment', 'history', 'mens', 'womens', 'zip_code', 'newbie', 'channel']\n",
    "        self.logger = logger\n",
    "        \n",
    "        if self.logger:\n",
    "            self.logger.info(\"Модель UpliftModel инициализирована с признаками: %s\", feature_names)\n",
    "\n",
    "    def _transform_data(self, X):\n",
    "        \"\"\"\n",
    "        Преобразование данных для модели.\n",
    "        \n",
    "        Аргументы:\n",
    "            X: pandas.DataFrame с признаками\n",
    "        \"\"\"\n",
    "        if self.logger:\n",
    "            self.logger.debug(\"Преобразование входных данных размерности %s\", X.shape)\n",
    "\n",
    "        # реализуйте преобразование данных для модели,\n",
    "        # если в финальной модели используются новые признаки\n",
    "       \n",
    "\n",
    "        return X\n",
    "    \n",
    "    def predict(self, X):\n",
    "        \"\"\"\n",
    "        Получение предсказаний uplift.\n",
    "        \n",
    "        Аргументы:\n",
    "            X: pandas.DataFrame с признаками\n",
    "            \n",
    "        Возвращает:\n",
    "            numpy.array с предсказанными значениями uplift\n",
    "        \"\"\"\n",
    "        # Проверяем, что датафрейм не пустой\n",
    "        if X.empty:\n",
    "            if self.logger:\n",
    "                self.logger.error(\"Предоставлен пустой датафрейм\")\n",
    "            return None\n",
    "            \n",
    "        # Проверяем наличие пропущенных значений\n",
    "        if X.isnull().any().any():\n",
    "            if self.logger:\n",
    "                self.logger.error(\"Входные данные содержат пропущенные значения\")\n",
    "            return [None]*len(X)\n",
    "        \n",
    "        if self.logger:\n",
    "            self.logger.info(\"Выполняем предсказания для данных размерности %s\", X.shape)\n",
    "\n",
    "        # Проверяем наличие всех необходимых признаков\n",
    "        missing_features = set(self.feature_names) - set(X.columns)\n",
    "        if missing_features:\n",
    "            error_msg = f\"Отсутствуют признаки: {missing_features}\"\n",
    "            if self.logger:\n",
    "                self.logger.error(error_msg)\n",
    "\n",
    "            return [None]*len(X)\n",
    "        \n",
    "        # Преобразуем данные для модели\n",
    "        if self.logger:\n",
    "            self.logger.debug(\"Начинаем преобразование данных\")\n",
    "        X = self._transform_data(X)\n",
    "        \n",
    "        # Вычисляем uplift\n",
    "        if self.logger:\n",
    "            self.logger.debug(\"Выполняем предсказания модели\")\n",
    "        \n",
    "\n",
    "        # Дополните код для получения предсказаний аплифта\n",
    "\n",
    "        \n",
    "        if self.logger:\n",
    "            self.logger.info(\"Предсказания успешно завершены\")\n",
    "            \n",
    "        return uplift\n"
   ]
  },
  {
   "cell_type": "code",
   "execution_count": null,
   "metadata": {},
   "outputs": [],
   "source": [
    "model = UpliftModelInference(model= # ваш код,\n",
    "                             feature_names= # ваш код)"
   ]
  },
  {
   "cell_type": "code",
   "execution_count": null,
   "metadata": {},
   "outputs": [],
   "source": [
    "test_data = pd.DataFrame({\n",
    "            'recency': [1, 2, 3],\n",
    "            'history_segment': [1, 2, 3], \n",
    "            'history': [100, 200, 300],\n",
    "            'mens': [1, 0, 1],\n",
    "            'womens': [0, 1, 0],\n",
    "            'zip_code': [1, 0, 1],\n",
    "            'newbie': [0, 1, 0],\n",
    "            'channel': [1, 2, 0]\n",
    "        })"
   ]
  },
  {
   "cell_type": "code",
   "execution_count": null,
   "metadata": {},
   "outputs": [],
   "source": [
    "# проверка работы класса\n",
    "model.predict(test_data)"
   ]
  }
 ],
 "metadata": {
  "kernelspec": {
   "display_name": ".uplift_env",
   "language": "python",
   "name": "python3"
  },
  "language_info": {
   "codemirror_mode": {
    "name": "ipython",
    "version": 3
   },
   "file_extension": ".py",
   "mimetype": "text/x-python",
   "name": "python",
   "nbconvert_exporter": "python",
   "pygments_lexer": "ipython3",
   "version": "3.10.12"
  }
 },
 "nbformat": 4,
 "nbformat_minor": 2
}
