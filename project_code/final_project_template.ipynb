{
 "cells": [
  {
   "cell_type": "markdown",
   "metadata": {},
   "source": [
    "# Часть 1"
   ]
  },
  {
   "cell_type": "markdown",
   "metadata": {},
   "source": [
    "## Этап 1"
   ]
  },
  {
   "cell_type": "code",
   "execution_count": null,
   "metadata": {},
   "outputs": [],
   "source": []
  },
  {
   "cell_type": "markdown",
   "metadata": {},
   "source": [
    "## Этап 2"
   ]
  },
  {
   "cell_type": "markdown",
   "metadata": {},
   "source": [
    "### EDA\n"
   ]
  },
  {
   "cell_type": "code",
   "execution_count": null,
   "metadata": {},
   "outputs": [],
   "source": []
  },
  {
   "cell_type": "markdown",
   "metadata": {},
   "source": [
    "Сделайте вывод на основе EDA в данной ячейке"
   ]
  },
  {
   "cell_type": "markdown",
   "metadata": {},
   "source": [
    "# Этап 2"
   ]
  },
  {
   "cell_type": "markdown",
   "metadata": {},
   "source": [
    "### Проверка на статистическую значимость"
   ]
  },
  {
   "cell_type": "markdown",
   "metadata": {},
   "source": [
    "Обоснуйте выбор статистического теста в данной ячейке"
   ]
  },
  {
   "cell_type": "code",
   "execution_count": null,
   "metadata": {},
   "outputs": [],
   "source": []
  },
  {
   "cell_type": "markdown",
   "metadata": {},
   "source": [
    "## Построение корреляций"
   ]
  },
  {
   "cell_type": "code",
   "execution_count": null,
   "metadata": {},
   "outputs": [],
   "source": []
  },
  {
   "cell_type": "markdown",
   "metadata": {},
   "source": [
    "Сделайте вывод о корреляциях признаков друг с другом и таргетом в этой ячейке"
   ]
  },
  {
   "cell_type": "markdown",
   "metadata": {},
   "source": [
    "## Этап 3"
   ]
  },
  {
   "cell_type": "markdown",
   "metadata": {},
   "source": [
    "Обоснуйте выбор конкретной uplift модели в данной ячейке"
   ]
  },
  {
   "cell_type": "markdown",
   "metadata": {},
   "source": [
    "### Советы по обучению и инференсу моделей\n",
    "1. Некоторые uplift модели из библиотеки `causalml` будут требовать категориальные значения воздействия. Для этого используйте маппинг\n",
    "#### Пример использования маппинга\n",
    "```python\n",
    "treatment_mapping = {\n",
    "    0: 'control',\n",
    "    1: 'treatment'\n",
    "}\n",
    "treatment_train_mapped = treatment_train.map(treatment_mapping)\n",
    "treatment_test_mapped = treatment_test.map(treatment_mapping)\n",
    "```\n",
    "\n",
    "2. При вызове метода `.predict` и получения метрик для тестовой выборки не забывайте применять к прогнозам метод `squeeze()`, чтобы преобразовать многомерный массив в одномерный, что поможет получить адекватные метрики.\n",
    "\n",
    "3. Для воспроизводимости результатов и объективной оценки не забывайте применять `random_state=42` для моделей, а также при разделении выборки"
   ]
  },
  {
   "cell_type": "markdown",
   "metadata": {},
   "source": [
    "### Разбиение выборки на тренировочную и тестовую"
   ]
  },
  {
   "cell_type": "code",
   "execution_count": null,
   "metadata": {},
   "outputs": [],
   "source": []
  },
  {
   "cell_type": "markdown",
   "metadata": {},
   "source": [
    "### Обучение выбранного бейзлайна"
   ]
  },
  {
   "cell_type": "code",
   "execution_count": 14,
   "metadata": {},
   "outputs": [],
   "source": []
  },
  {
   "cell_type": "markdown",
   "metadata": {},
   "source": [
    "### Расчет метрик для выбранного бейзлайна на тестовой выборке"
   ]
  },
  {
   "cell_type": "code",
   "execution_count": null,
   "metadata": {},
   "outputs": [],
   "source": []
  },
  {
   "cell_type": "markdown",
   "metadata": {},
   "source": [
    "# Обучение 2 моделей "
   ]
  },
  {
   "cell_type": "markdown",
   "metadata": {},
   "source": [
    "### Обучение модели 1"
   ]
  },
  {
   "cell_type": "code",
   "execution_count": null,
   "metadata": {},
   "outputs": [],
   "source": []
  },
  {
   "cell_type": "markdown",
   "metadata": {},
   "source": [
    "### Получение метрик по модели 1"
   ]
  },
  {
   "cell_type": "code",
   "execution_count": null,
   "metadata": {},
   "outputs": [],
   "source": []
  },
  {
   "cell_type": "markdown",
   "metadata": {},
   "source": [
    "### Обучение модели 2"
   ]
  },
  {
   "cell_type": "code",
   "execution_count": 18,
   "metadata": {},
   "outputs": [],
   "source": []
  },
  {
   "cell_type": "markdown",
   "metadata": {},
   "source": [
    "### Получение метрик по модели 2"
   ]
  },
  {
   "cell_type": "code",
   "execution_count": null,
   "metadata": {},
   "outputs": [],
   "source": []
  },
  {
   "cell_type": "markdown",
   "metadata": {},
   "source": [
    "Проинтерпретируйте полученные результаты и обоснуйте выбор 1 модели в этой ячейке"
   ]
  },
  {
   "cell_type": "markdown",
   "metadata": {},
   "source": [
    "# Часть 2"
   ]
  },
  {
   "cell_type": "markdown",
   "metadata": {},
   "source": [
    "## Этап 1\n",
    "Улучшите бейзлайн выбранной модели"
   ]
  },
  {
   "cell_type": "code",
   "execution_count": 25,
   "metadata": {},
   "outputs": [],
   "source": []
  },
  {
   "cell_type": "markdown",
   "metadata": {},
   "source": [
    "#### Генерация признаков (опционально)"
   ]
  },
  {
   "cell_type": "code",
   "execution_count": null,
   "metadata": {},
   "outputs": [],
   "source": []
  },
  {
   "cell_type": "markdown",
   "metadata": {},
   "source": [
    "### Подбор гиперпараметров"
   ]
  },
  {
   "cell_type": "code",
   "execution_count": null,
   "metadata": {},
   "outputs": [],
   "source": [
    "from optuna import create_study\n",
    "from sklift.metrics import uplift_at_k\n",
    "\n",
    "def objective(trial):\n",
    "    # Дополните код для подбора гиперпараметров\n",
    "\n",
    "    uplift_at_30 = uplift_at_k(y_test, uplift_pred, treatment_test, k=0.3, strategy='overall')\n",
    "    return uplift_at_30\n",
    "\n",
    "# Создаем и запускаем исследование\n",
    "study = create_study(direction='maximize')\n",
    "study.optimize(objective, n_trials=100)\n",
    "\n",
    "# Выводим лучшие гиперпараметры\n",
    "print(\"Best hyperparameters: \", study.best_params)\n",
    "print(\"Best score: \", study.best_value)\n"
   ]
  },
  {
   "cell_type": "markdown",
   "metadata": {},
   "source": [
    "## Этап 2"
   ]
  },
  {
   "cell_type": "markdown",
   "metadata": {},
   "source": [
    "### Визуализация результатов"
   ]
  },
  {
   "cell_type": "code",
   "execution_count": null,
   "metadata": {},
   "outputs": [],
   "source": [
    "from utils import custom_uplift_by_percentile"
   ]
  },
  {
   "cell_type": "code",
   "execution_count": null,
   "metadata": {},
   "outputs": [],
   "source": []
  },
  {
   "cell_type": "code",
   "execution_count": null,
   "metadata": {},
   "outputs": [],
   "source": []
  },
  {
   "cell_type": "markdown",
   "metadata": {},
   "source": [
    "В данной ячейке сделайте вывод о качестве работы модели и проинтерпретируйте график `uplift by percentile` "
   ]
  },
  {
   "cell_type": "markdown",
   "metadata": {},
   "source": [
    "# Этап 3"
   ]
  },
  {
   "cell_type": "code",
   "execution_count": 138,
   "metadata": {},
   "outputs": [],
   "source": [
    "# Класс для инференса модели\n",
    "class UpliftModelInference:\n",
    "    \"\"\"\n",
    "    Класс для инференса uplift модели.\n",
    "    \"\"\"\n",
    "    \n",
    "    def __init__(self, model, feature_names, logger=None):\n",
    "        \"\"\"\n",
    "        Инициализация класса.\n",
    "        \n",
    "        Аргументы:\n",
    "            model: Обученная модель uplift\n",
    "            feature_names: Список признаков для предсказания \n",
    "            logger: Объект для логирования (по умолчанию None)\n",
    "        \"\"\"\n",
    "        self.model = model\n",
    "        self.feature_names = ['recency', 'history_segment', 'history', 'mens', 'womens', 'zip_code', 'newbie', 'channel']\n",
    "        self.logger = logger\n",
    "        \n",
    "        if self.logger:\n",
    "            self.logger.info(\"Модель UpliftModel инициализирована с признаками: %s\", feature_names)\n",
    "\n",
    "    def _transform_data(self, X):\n",
    "        \"\"\"\n",
    "        Преобразование данных для модели.\n",
    "        \n",
    "        Аргументы:\n",
    "            X: pandas.DataFrame с признаками\n",
    "        \"\"\"\n",
    "        if self.logger:\n",
    "            self.logger.debug(\"Преобразование входных данных размерности %s\", X.shape)\n",
    "\n",
    "        # реализуйте преобразование данных для модели,\n",
    "        # если в финальной модели используются новые признаки\n",
    "       \n",
    "\n",
    "        return X\n",
    "    \n",
    "    def predict(self, X):\n",
    "        \"\"\"\n",
    "        Получение предсказаний uplift.\n",
    "        \n",
    "        Аргументы:\n",
    "            X: pandas.DataFrame с признаками\n",
    "            \n",
    "        Возвращает:\n",
    "            numpy.array с предсказанными значениями uplift\n",
    "        \"\"\"\n",
    "        # Проверяем, что датафрейм не пустой\n",
    "        if X.empty:\n",
    "            if self.logger:\n",
    "                self.logger.error(\"Предоставлен пустой датафрейм\")\n",
    "            return None\n",
    "            \n",
    "        # Проверяем наличие пропущенных значений\n",
    "        if X.isnull().any().any():\n",
    "            if self.logger:\n",
    "                self.logger.error(\"Входные данные содержат пропущенные значения\")\n",
    "            return [None]*len(X)\n",
    "        \n",
    "        if self.logger:\n",
    "            self.logger.info(\"Выполняем предсказания для данных размерности %s\", X.shape)\n",
    "\n",
    "        # Проверяем наличие всех необходимых признаков\n",
    "        missing_features = set(self.feature_names) - set(X.columns)\n",
    "        if missing_features:\n",
    "            error_msg = f\"Отсутствуют признаки: {missing_features}\"\n",
    "            if self.logger:\n",
    "                self.logger.error(error_msg)\n",
    "\n",
    "            return [None]*len(X)\n",
    "        \n",
    "        # Преобразуем данные для модели\n",
    "        if self.logger:\n",
    "            self.logger.debug(\"Начинаем преобразование данных\")\n",
    "        X = self._transform_data(X)\n",
    "        \n",
    "        # Вычисляем uplift\n",
    "        if self.logger:\n",
    "            self.logger.debug(\"Выполняем предсказания модели\")\n",
    "        \n",
    "\n",
    "        # Дополните код для получения предсказаний аплифта\n",
    "\n",
    "        \n",
    "        if self.logger:\n",
    "            self.logger.info(\"Предсказания успешно завершены\")\n",
    "            \n",
    "        return uplift\n"
   ]
  },
  {
   "cell_type": "code",
   "execution_count": 126,
   "metadata": {},
   "outputs": [],
   "source": [
    "model = UpliftModelInference(model= # ваш код,\n",
    "                             feature_names= # ваш код)"
   ]
  },
  {
   "cell_type": "code",
   "execution_count": null,
   "metadata": {},
   "outputs": [],
   "source": [
    "test_data = pd.DataFrame({\n",
    "            'recency': [1, 2, 3],\n",
    "            'history_segment': [1, 2, 3], \n",
    "            'history': [100, 200, 300],\n",
    "            'mens': [1, 0, 1],\n",
    "            'womens': [0, 1, 0],\n",
    "            'zip_code': [1, 0, 1],\n",
    "            'newbie': [0, 1, 0],\n",
    "            'channel': [1, 2, 0]\n",
    "        })"
   ]
  },
  {
   "cell_type": "code",
   "execution_count": null,
   "metadata": {},
   "outputs": [],
   "source": [
    "# проверка работы класса\n",
    "model.predict(test_data)"
   ]
  }
 ],
 "metadata": {
  "kernelspec": {
   "display_name": "uplift_env",
   "language": "python",
   "name": "python3"
  },
  "language_info": {
   "codemirror_mode": {
    "name": "ipython",
    "version": 3
   },
   "file_extension": ".py",
   "mimetype": "text/x-python",
   "name": "python",
   "nbconvert_exporter": "python",
   "pygments_lexer": "ipython3",
   "version": "3.10.13"
  }
 },
 "nbformat": 4,
 "nbformat_minor": 2
}
