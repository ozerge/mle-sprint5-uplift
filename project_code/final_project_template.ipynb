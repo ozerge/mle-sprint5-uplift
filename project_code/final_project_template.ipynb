{
 "cells": [
  {
   "cell_type": "markdown",
   "metadata": {},
   "source": [
    "# Часть 1"
   ]
  },
  {
   "cell_type": "markdown",
   "metadata": {},
   "source": [
    "## Проект. Методы uplift-моделирования  \n",
    "\n",
    "## Описание задачи  \n",
    "В этот раз вы будете работать с Яндекс Едой. Ваша задача — определить целевую аудиторию, которой можно предложить промокод на 500 рублей на доставку еды из ресторанов. Цель этого предложения — побудить пользователей совершать покупки чаще. Конверсией в таком контексте можно считать успешное использование промокода, ведь тогда частота заказов увеличится, а доход компании возрастёт.  \n",
    "\n",
    "## Проблема  \n",
    "Отбор целевой аудитории для предложения промокодов представляет собой проблему в разработке эффективных маркетинговых стратегий. Неправильный выбор ЦА может привести к неэффективным расходам на маркетинг и снижению конверсии.  \n",
    "\n",
    "## Бизнес-задача\n",
    "Разработать эффективную систему, которая позволит точно идентифицировать нужную целевую аудиторию. Это повысит конверсию использования промокодов и приведёт к увеличению доходов компании.\n",
    "Точный выбор целевой аудитории — ключевой фактор для роста продаж. От него напрямую зависит, насколько хорошо сработает предложение. Однако текущие подходы часто промахиваются, не позволяя понять, кто действительно воспользуется предложением. В результате деньги на маркетинг тратятся впустую. Поэтому компании необходима модель, которая поможет точно находить нужных пользователей и достигать бизнес-целей без лишних затрат.  \n",
    "\n",
    "## Цель проекта \n",
    "Cоздать с нуля uplift-модель на основе данных A/B-теста. Она поможет точнее выбирать клиентов, которым действительно стоит предлагать промокоды. Это не только повысит конверсию, но и улучшит финальные показатели бизнеса.\n",
    "\n",
    "## Описание датасета\n",
    "Датасет содержит 64 000 клиентов, которые совершили последнюю покупку в течение последних двенадцати месяцев. Клиенты участвовали в тестировании по мобильному каналу.  \n",
    "\n",
    "Столбцы:  \n",
    "`recency` — количество месяцев с момента последней покупки. Этот атрибут помогает понять, как долго клиент не совершал покупок (индикатором его вовлечённости).  \n",
    "`history_segment` — категоризация расходов клиента за последний год. Этот атрибут позволяет сегментировать клиентов по уровню их трат (помощь в таргетировании предложений).  \n",
    "`history` — фактическая сумма (в $), потраченная клиентом за последний год. Этот атрибут предоставляет информацию о финансовом поведении клиента.  \n",
    "`mens` — индикатор (1/0), где 1 означает, что клиент покупал товары для мужчин в течение последнего года. Это помогает определить предпочтения клиента.  \n",
    "`womens` — индикатор (1/0), где 1 означает, что клиент покупал товары для женщин в течение последнего года. Это также помогает определить предпочтения клиента.  \n",
    "`zip_code` — классификация почтового индекса (город, пригород, село). Этот атрибут может быть полезен для географического анализа клиентов.  \n",
    "`newbie` — индикатор (1/0), где 1 обозначает нового клиента (в течение последних двенадцати месяцев). Это поможет оценить эффективность маркетинговых стратегий для привлечения новых клиентов.  \n",
    "`channel` — описание каналов, через которые клиент совершал покупки в течение последнего года. Этот атрибут поможет с анализом предпочтений клиентов по каналам продаж (0 — мультиканал, 1 — мобильный, 2 — веб).  \n",
    "`treatment` — индикатор (1/0), где 1 означает, что клиент получил промокод. Этот атрибут позволяет оценить влияние предложения на поведение клиента и его решение о покупке.  \n",
    "`target` — индикатор (1/0), где 1 означает, что клиент успешно использовал промокод.  "
   ]
  },
  {
   "cell_type": "markdown",
   "metadata": {},
   "source": [
    "## Этап 1"
   ]
  },
  {
   "cell_type": "code",
   "execution_count": 1,
   "metadata": {},
   "outputs": [],
   "source": [
    "import pandas as pd\n",
    "import numpy as np\n",
    "import matplotlib.pyplot as plt\n",
    "import seaborn as sns\n",
    "from scipy.stats import ttest_ind\n",
    "from scipy import stats"
   ]
  },
  {
   "cell_type": "code",
   "execution_count": 2,
   "metadata": {},
   "outputs": [
    {
     "name": "stdout",
     "output_type": "stream",
     "text": [
      "Файл найден локально\n"
     ]
    }
   ],
   "source": [
    "# Открываем и сохраняем файл uplift_fp_data.csv в датафрейм из директории или по ссылке:\n",
    "try:\n",
    "    df = pd.read_csv('uplift_fp_data.csv')\n",
    "    print(\"Файл найден локально\")\n",
    "except:\n",
    "    url = \"https://raw.githubusercontent.com/yandex-praktikum/mle-uplift-final-project-2025/main/uplift_fp_data.csv\"\n",
    "    try:\n",
    "        df = pd.read_csv(url)\n",
    "        print(\"Файл успешно загружен\")\n",
    "        # Сохраняем локально\n",
    "        df.to_csv('uplift_fp_data.csv', index=False)\n",
    "    except Exception as e:\n",
    "        print(f\"Ошибка: {e}\")\n",
    "        df = pd.DataFrame()"
   ]
  },
  {
   "cell_type": "code",
   "execution_count": 3,
   "metadata": {},
   "outputs": [
    {
     "data": {
      "text/html": [
       "<div>\n",
       "<style scoped>\n",
       "    .dataframe tbody tr th:only-of-type {\n",
       "        vertical-align: middle;\n",
       "    }\n",
       "\n",
       "    .dataframe tbody tr th {\n",
       "        vertical-align: top;\n",
       "    }\n",
       "\n",
       "    .dataframe thead th {\n",
       "        text-align: right;\n",
       "    }\n",
       "</style>\n",
       "<table border=\"1\" class=\"dataframe\">\n",
       "  <thead>\n",
       "    <tr style=\"text-align: right;\">\n",
       "      <th></th>\n",
       "      <th>recency</th>\n",
       "      <th>history_segment</th>\n",
       "      <th>history</th>\n",
       "      <th>mens</th>\n",
       "      <th>womens</th>\n",
       "      <th>zip_code</th>\n",
       "      <th>newbie</th>\n",
       "      <th>channel</th>\n",
       "      <th>treatment</th>\n",
       "      <th>target</th>\n",
       "    </tr>\n",
       "  </thead>\n",
       "  <tbody>\n",
       "    <tr>\n",
       "      <th>0</th>\n",
       "      <td>10</td>\n",
       "      <td>1</td>\n",
       "      <td>142.44</td>\n",
       "      <td>1</td>\n",
       "      <td>0</td>\n",
       "      <td>1</td>\n",
       "      <td>0</td>\n",
       "      <td>1</td>\n",
       "      <td>1</td>\n",
       "      <td>0</td>\n",
       "    </tr>\n",
       "    <tr>\n",
       "      <th>1</th>\n",
       "      <td>6</td>\n",
       "      <td>2</td>\n",
       "      <td>329.08</td>\n",
       "      <td>1</td>\n",
       "      <td>1</td>\n",
       "      <td>2</td>\n",
       "      <td>1</td>\n",
       "      <td>2</td>\n",
       "      <td>0</td>\n",
       "      <td>0</td>\n",
       "    </tr>\n",
       "    <tr>\n",
       "      <th>2</th>\n",
       "      <td>7</td>\n",
       "      <td>1</td>\n",
       "      <td>180.65</td>\n",
       "      <td>0</td>\n",
       "      <td>1</td>\n",
       "      <td>1</td>\n",
       "      <td>1</td>\n",
       "      <td>2</td>\n",
       "      <td>1</td>\n",
       "      <td>0</td>\n",
       "    </tr>\n",
       "    <tr>\n",
       "      <th>3</th>\n",
       "      <td>9</td>\n",
       "      <td>4</td>\n",
       "      <td>675.83</td>\n",
       "      <td>1</td>\n",
       "      <td>0</td>\n",
       "      <td>2</td>\n",
       "      <td>1</td>\n",
       "      <td>2</td>\n",
       "      <td>0</td>\n",
       "      <td>0</td>\n",
       "    </tr>\n",
       "    <tr>\n",
       "      <th>4</th>\n",
       "      <td>2</td>\n",
       "      <td>0</td>\n",
       "      <td>45.34</td>\n",
       "      <td>1</td>\n",
       "      <td>0</td>\n",
       "      <td>0</td>\n",
       "      <td>0</td>\n",
       "      <td>2</td>\n",
       "      <td>1</td>\n",
       "      <td>0</td>\n",
       "    </tr>\n",
       "    <tr>\n",
       "      <th>...</th>\n",
       "      <td>...</td>\n",
       "      <td>...</td>\n",
       "      <td>...</td>\n",
       "      <td>...</td>\n",
       "      <td>...</td>\n",
       "      <td>...</td>\n",
       "      <td>...</td>\n",
       "      <td>...</td>\n",
       "      <td>...</td>\n",
       "      <td>...</td>\n",
       "    </tr>\n",
       "    <tr>\n",
       "      <th>63995</th>\n",
       "      <td>10</td>\n",
       "      <td>1</td>\n",
       "      <td>105.54</td>\n",
       "      <td>1</td>\n",
       "      <td>0</td>\n",
       "      <td>0</td>\n",
       "      <td>0</td>\n",
       "      <td>2</td>\n",
       "      <td>0</td>\n",
       "      <td>0</td>\n",
       "    </tr>\n",
       "    <tr>\n",
       "      <th>63996</th>\n",
       "      <td>5</td>\n",
       "      <td>0</td>\n",
       "      <td>38.91</td>\n",
       "      <td>0</td>\n",
       "      <td>1</td>\n",
       "      <td>0</td>\n",
       "      <td>1</td>\n",
       "      <td>1</td>\n",
       "      <td>0</td>\n",
       "      <td>0</td>\n",
       "    </tr>\n",
       "    <tr>\n",
       "      <th>63997</th>\n",
       "      <td>6</td>\n",
       "      <td>0</td>\n",
       "      <td>29.99</td>\n",
       "      <td>1</td>\n",
       "      <td>0</td>\n",
       "      <td>0</td>\n",
       "      <td>1</td>\n",
       "      <td>1</td>\n",
       "      <td>0</td>\n",
       "      <td>0</td>\n",
       "    </tr>\n",
       "    <tr>\n",
       "      <th>63998</th>\n",
       "      <td>1</td>\n",
       "      <td>4</td>\n",
       "      <td>552.94</td>\n",
       "      <td>1</td>\n",
       "      <td>0</td>\n",
       "      <td>1</td>\n",
       "      <td>1</td>\n",
       "      <td>0</td>\n",
       "      <td>1</td>\n",
       "      <td>0</td>\n",
       "    </tr>\n",
       "    <tr>\n",
       "      <th>63999</th>\n",
       "      <td>1</td>\n",
       "      <td>3</td>\n",
       "      <td>472.82</td>\n",
       "      <td>0</td>\n",
       "      <td>1</td>\n",
       "      <td>1</td>\n",
       "      <td>0</td>\n",
       "      <td>2</td>\n",
       "      <td>0</td>\n",
       "      <td>0</td>\n",
       "    </tr>\n",
       "  </tbody>\n",
       "</table>\n",
       "<p>64000 rows × 10 columns</p>\n",
       "</div>"
      ],
      "text/plain": [
       "       recency  history_segment  history  mens  womens  zip_code  newbie  \\\n",
       "0           10                1   142.44     1       0         1       0   \n",
       "1            6                2   329.08     1       1         2       1   \n",
       "2            7                1   180.65     0       1         1       1   \n",
       "3            9                4   675.83     1       0         2       1   \n",
       "4            2                0    45.34     1       0         0       0   \n",
       "...        ...              ...      ...   ...     ...       ...     ...   \n",
       "63995       10                1   105.54     1       0         0       0   \n",
       "63996        5                0    38.91     0       1         0       1   \n",
       "63997        6                0    29.99     1       0         0       1   \n",
       "63998        1                4   552.94     1       0         1       1   \n",
       "63999        1                3   472.82     0       1         1       0   \n",
       "\n",
       "       channel  treatment  target  \n",
       "0            1          1       0  \n",
       "1            2          0       0  \n",
       "2            2          1       0  \n",
       "3            2          0       0  \n",
       "4            2          1       0  \n",
       "...        ...        ...     ...  \n",
       "63995        2          0       0  \n",
       "63996        1          0       0  \n",
       "63997        1          0       0  \n",
       "63998        0          1       0  \n",
       "63999        2          0       0  \n",
       "\n",
       "[64000 rows x 10 columns]"
      ]
     },
     "execution_count": 3,
     "metadata": {},
     "output_type": "execute_result"
    }
   ],
   "source": [
    "df"
   ]
  },
  {
   "cell_type": "code",
   "execution_count": 4,
   "metadata": {},
   "outputs": [
    {
     "name": "stdout",
     "output_type": "stream",
     "text": [
      "\n",
      "Информация о датасете:\n",
      "<class 'pandas.core.frame.DataFrame'>\n",
      "RangeIndex: 64000 entries, 0 to 63999\n",
      "Data columns (total 10 columns):\n",
      " #   Column           Non-Null Count  Dtype  \n",
      "---  ------           --------------  -----  \n",
      " 0   recency          64000 non-null  int64  \n",
      " 1   history_segment  64000 non-null  int64  \n",
      " 2   history          64000 non-null  float64\n",
      " 3   mens             64000 non-null  int64  \n",
      " 4   womens           64000 non-null  int64  \n",
      " 5   zip_code         64000 non-null  int64  \n",
      " 6   newbie           64000 non-null  int64  \n",
      " 7   channel          64000 non-null  int64  \n",
      " 8   treatment        64000 non-null  int64  \n",
      " 9   target           64000 non-null  int64  \n",
      "dtypes: float64(1), int64(9)\n",
      "memory usage: 4.9 MB\n"
     ]
    }
   ],
   "source": [
    "# Проверяем информацию о данных\n",
    "print(\"\\nИнформация о датасете:\")\n",
    "df.info()"
   ]
  },
  {
   "cell_type": "code",
   "execution_count": 5,
   "metadata": {},
   "outputs": [
    {
     "name": "stdout",
     "output_type": "stream",
     "text": [
      "\n",
      "Основные статистики:\n"
     ]
    },
    {
     "data": {
      "text/html": [
       "<div>\n",
       "<style scoped>\n",
       "    .dataframe tbody tr th:only-of-type {\n",
       "        vertical-align: middle;\n",
       "    }\n",
       "\n",
       "    .dataframe tbody tr th {\n",
       "        vertical-align: top;\n",
       "    }\n",
       "\n",
       "    .dataframe thead th {\n",
       "        text-align: right;\n",
       "    }\n",
       "</style>\n",
       "<table border=\"1\" class=\"dataframe\">\n",
       "  <thead>\n",
       "    <tr style=\"text-align: right;\">\n",
       "      <th></th>\n",
       "      <th>recency</th>\n",
       "      <th>history_segment</th>\n",
       "      <th>history</th>\n",
       "      <th>mens</th>\n",
       "      <th>womens</th>\n",
       "      <th>zip_code</th>\n",
       "      <th>newbie</th>\n",
       "      <th>channel</th>\n",
       "      <th>treatment</th>\n",
       "      <th>target</th>\n",
       "    </tr>\n",
       "  </thead>\n",
       "  <tbody>\n",
       "    <tr>\n",
       "      <th>count</th>\n",
       "      <td>64000.000000</td>\n",
       "      <td>64000.000000</td>\n",
       "      <td>64000.000000</td>\n",
       "      <td>64000.000000</td>\n",
       "      <td>64000.000000</td>\n",
       "      <td>64000.000000</td>\n",
       "      <td>64000.000000</td>\n",
       "      <td>64000.000000</td>\n",
       "      <td>64000.000000</td>\n",
       "      <td>64000.000000</td>\n",
       "    </tr>\n",
       "    <tr>\n",
       "      <th>mean</th>\n",
       "      <td>5.763734</td>\n",
       "      <td>1.481969</td>\n",
       "      <td>242.085656</td>\n",
       "      <td>0.551031</td>\n",
       "      <td>0.549719</td>\n",
       "      <td>0.748469</td>\n",
       "      <td>0.502250</td>\n",
       "      <td>1.319609</td>\n",
       "      <td>0.334172</td>\n",
       "      <td>0.146781</td>\n",
       "    </tr>\n",
       "    <tr>\n",
       "      <th>std</th>\n",
       "      <td>3.507592</td>\n",
       "      <td>1.544514</td>\n",
       "      <td>256.158608</td>\n",
       "      <td>0.497393</td>\n",
       "      <td>0.497526</td>\n",
       "      <td>0.697936</td>\n",
       "      <td>0.499999</td>\n",
       "      <td>0.678254</td>\n",
       "      <td>0.471704</td>\n",
       "      <td>0.353890</td>\n",
       "    </tr>\n",
       "    <tr>\n",
       "      <th>min</th>\n",
       "      <td>1.000000</td>\n",
       "      <td>0.000000</td>\n",
       "      <td>29.990000</td>\n",
       "      <td>0.000000</td>\n",
       "      <td>0.000000</td>\n",
       "      <td>0.000000</td>\n",
       "      <td>0.000000</td>\n",
       "      <td>0.000000</td>\n",
       "      <td>0.000000</td>\n",
       "      <td>0.000000</td>\n",
       "    </tr>\n",
       "    <tr>\n",
       "      <th>25%</th>\n",
       "      <td>2.000000</td>\n",
       "      <td>0.000000</td>\n",
       "      <td>64.660000</td>\n",
       "      <td>0.000000</td>\n",
       "      <td>0.000000</td>\n",
       "      <td>0.000000</td>\n",
       "      <td>0.000000</td>\n",
       "      <td>1.000000</td>\n",
       "      <td>0.000000</td>\n",
       "      <td>0.000000</td>\n",
       "    </tr>\n",
       "    <tr>\n",
       "      <th>50%</th>\n",
       "      <td>6.000000</td>\n",
       "      <td>1.000000</td>\n",
       "      <td>158.110000</td>\n",
       "      <td>1.000000</td>\n",
       "      <td>1.000000</td>\n",
       "      <td>1.000000</td>\n",
       "      <td>1.000000</td>\n",
       "      <td>1.000000</td>\n",
       "      <td>0.000000</td>\n",
       "      <td>0.000000</td>\n",
       "    </tr>\n",
       "    <tr>\n",
       "      <th>75%</th>\n",
       "      <td>9.000000</td>\n",
       "      <td>2.000000</td>\n",
       "      <td>325.657500</td>\n",
       "      <td>1.000000</td>\n",
       "      <td>1.000000</td>\n",
       "      <td>1.000000</td>\n",
       "      <td>1.000000</td>\n",
       "      <td>2.000000</td>\n",
       "      <td>1.000000</td>\n",
       "      <td>0.000000</td>\n",
       "    </tr>\n",
       "    <tr>\n",
       "      <th>max</th>\n",
       "      <td>12.000000</td>\n",
       "      <td>6.000000</td>\n",
       "      <td>3345.930000</td>\n",
       "      <td>1.000000</td>\n",
       "      <td>1.000000</td>\n",
       "      <td>2.000000</td>\n",
       "      <td>1.000000</td>\n",
       "      <td>2.000000</td>\n",
       "      <td>1.000000</td>\n",
       "      <td>1.000000</td>\n",
       "    </tr>\n",
       "  </tbody>\n",
       "</table>\n",
       "</div>"
      ],
      "text/plain": [
       "            recency  history_segment       history          mens  \\\n",
       "count  64000.000000     64000.000000  64000.000000  64000.000000   \n",
       "mean       5.763734         1.481969    242.085656      0.551031   \n",
       "std        3.507592         1.544514    256.158608      0.497393   \n",
       "min        1.000000         0.000000     29.990000      0.000000   \n",
       "25%        2.000000         0.000000     64.660000      0.000000   \n",
       "50%        6.000000         1.000000    158.110000      1.000000   \n",
       "75%        9.000000         2.000000    325.657500      1.000000   \n",
       "max       12.000000         6.000000   3345.930000      1.000000   \n",
       "\n",
       "             womens      zip_code        newbie       channel     treatment  \\\n",
       "count  64000.000000  64000.000000  64000.000000  64000.000000  64000.000000   \n",
       "mean       0.549719      0.748469      0.502250      1.319609      0.334172   \n",
       "std        0.497526      0.697936      0.499999      0.678254      0.471704   \n",
       "min        0.000000      0.000000      0.000000      0.000000      0.000000   \n",
       "25%        0.000000      0.000000      0.000000      1.000000      0.000000   \n",
       "50%        1.000000      1.000000      1.000000      1.000000      0.000000   \n",
       "75%        1.000000      1.000000      1.000000      2.000000      1.000000   \n",
       "max        1.000000      2.000000      1.000000      2.000000      1.000000   \n",
       "\n",
       "             target  \n",
       "count  64000.000000  \n",
       "mean       0.146781  \n",
       "std        0.353890  \n",
       "min        0.000000  \n",
       "25%        0.000000  \n",
       "50%        0.000000  \n",
       "75%        0.000000  \n",
       "max        1.000000  "
      ]
     },
     "execution_count": 5,
     "metadata": {},
     "output_type": "execute_result"
    }
   ],
   "source": [
    "# Проверяем основные статистики\n",
    "print(\"\\nОсновные статистики:\")\n",
    "df.describe()"
   ]
  },
  {
   "cell_type": "code",
   "execution_count": 6,
   "metadata": {},
   "outputs": [
    {
     "name": "stdout",
     "output_type": "stream",
     "text": [
      "\n",
      "Уникальные значения в категориальных переменных:\n",
      "history_segment: [1 2 4 0 5 3 6]\n",
      "zip_code: [1 2 0]\n",
      "newbie: [0 1]\n",
      "channel: [1 2 0]\n",
      "treatment: [1 0]\n",
      "target: [0 1]\n",
      "mens: [1 0]\n",
      "womens: [0 1]\n"
     ]
    }
   ],
   "source": [
    "# Проверяем уникальные значения в категориальных переменных\n",
    "print(\"\\nУникальные значения в категориальных переменных:\")\n",
    "categorical_cols = ['history_segment', 'zip_code', 'newbie', 'channel', 'treatment', 'target', 'mens', 'womens']\n",
    "for col in categorical_cols:\n",
    "    print(f\"{col}: {df[col].unique()}\")"
   ]
  },
  {
   "cell_type": "raw",
   "metadata": {
    "vscode": {
     "languageId": "raw"
    }
   },
   "source": [
    "# Список колонок для преобразования\n",
    "cat_cols = ['history_segment', 'zip_code', 'newbie', 'channel', 'treatment', 'target', 'mens', 'womens']\n",
    "\n",
    "# Преобразуем их в категориальный тип\n",
    "df[cat_cols] = df[cat_cols].astype('category')\n",
    "\n",
    "# Проверим результат\n",
    "print(\"\\nИнформация о датасете после преобразования:\")\n",
    "df.info()"
   ]
  },
  {
   "cell_type": "markdown",
   "metadata": {},
   "source": [
    "***Вывод:***\n",
    "- Импортированы библиотеки\n",
    "- Загружен датасет: 64,000 строк × 10 столбцов\n",
    "- Данные соответствуют описанию\n",
    "- Пропуски отсутствуют"
   ]
  },
  {
   "cell_type": "markdown",
   "metadata": {},
   "source": [
    "## Этап 2"
   ]
  },
  {
   "cell_type": "markdown",
   "metadata": {},
   "source": [
    "### EDA\n"
   ]
  },
  {
   "cell_type": "code",
   "execution_count": 7,
   "metadata": {},
   "outputs": [
    {
     "name": "stderr",
     "output_type": "stream",
     "text": [
      "/tmp/ipykernel_3527/172641390.py:6: FutureWarning: \n",
      "\n",
      "Passing `palette` without assigning `hue` is deprecated and will be removed in v0.14.0. Assign the `x` variable to `hue` and set `legend=False` for the same effect.\n",
      "\n",
      "  sns.barplot(x=counts.index, y=counts.values, palette='pastel')\n"
     ]
    },
    {
     "data": {
      "image/png": "[encoded data removed]",
      "text/plain": [
       "<Figure size 1000x600 with 1 Axes>"
      ]
     },
     "metadata": {},
     "output_type": "display_data"
    },
    {
     "name": "stdout",
     "output_type": "stream",
     "text": [
      "Распределение по группам:\n",
      "Control group (0): 42613 наблюдений (66.6%)\n",
      "Treatment group (1): 21387 наблюдений (33.4%)\n",
      "Общее количество наблюдений: 64000\n"
     ]
    }
   ],
   "source": [
    "# Проверяем сбалансированность выборки по группам\n",
    "plt.figure(figsize=(10, 6))\n",
    "\n",
    "# Ваш отличный подход!\n",
    "counts = df['treatment'].value_counts()\n",
    "sns.barplot(x=counts.index, y=counts.values, palette='pastel')\n",
    "\n",
    "# Добавляем аннотации и улучшаем внешний вид\n",
    "for i, value in enumerate(counts.values):\n",
    "    plt.text(i, value + 500, f'{value}', ha='center', va='bottom')\n",
    "\n",
    "plt.title('Распределение по группам', fontsize=14, pad=20)\n",
    "plt.xlabel('Группа')\n",
    "plt.ylabel('Количество клиентов')\n",
    "plt.xticks([0, 1], ['Control (0)', 'Treatment (1)'])\n",
    "\n",
    "# Убираем ограничительные линии и добавляем сетку\n",
    "sns.despine()\n",
    "plt.grid(axis='y', alpha=0.3)\n",
    "\n",
    "plt.tight_layout()\n",
    "plt.show()\n",
    "\n",
    "# Выводим числовые значения\n",
    "treatment_counts = df['treatment'].value_counts().sort_index()\n",
    "\n",
    "print(\"Распределение по группам:\")\n",
    "print(f\"Control group (0): {treatment_counts[0]} наблюдений ({treatment_counts[0]/len(df)*100:.1f}%)\")\n",
    "print(f\"Treatment group (1): {treatment_counts[1]} наблюдений ({treatment_counts[1]/len(df)*100:.1f}%)\")\n",
    "print(f\"Общее количество наблюдений: {len(df)}\")"
   ]
  },
  {
   "cell_type": "markdown",
   "metadata": {},
   "source": [
    "Группы несбалансированы по размеру. Соотношение примерно 2:1 в пользу контрольной группы."
   ]
  },
  {
   "cell_type": "code",
   "execution_count": 8,
   "metadata": {},
   "outputs": [
    {
     "name": "stderr",
     "output_type": "stream",
     "text": [
      "/tmp/ipykernel_3527/479973492.py:7: FutureWarning: \n",
      "\n",
      "Passing `palette` without assigning `hue` is deprecated and will be removed in v0.14.0. Assign the `x` variable to `hue` and set `legend=False` for the same effect.\n",
      "\n",
      "  sns.barplot(x=conversion_rates.index, y=conversion_rates.values, palette='pastel')\n"
     ]
    },
    {
     "data": {
      "image/png": "[encoded data removed]",
      "text/plain": [
       "<Figure size 1400x600 with 2 Axes>"
      ]
     },
     "metadata": {},
     "output_type": "display_data"
    },
    {
     "name": "stdout",
     "output_type": "stream",
     "text": [
      "Анализ конверсии:\n",
      "Control: 0.144 (6156/42613)\n",
      "Treatment: 0.151 (3238/21387)\n",
      "Разница: 0.0069\n",
      "Относительное улучшение: 4.8%\n"
     ]
    }
   ],
   "source": [
    "# Анализ конверсии по группам\n",
    "plt.figure(figsize=(14, 6))\n",
    "\n",
    "# График 1: Доля конверсии по группам\n",
    "plt.subplot(1, 2, 1)\n",
    "conversion_rates = df.groupby('treatment')['target'].mean()\n",
    "sns.barplot(x=conversion_rates.index, y=conversion_rates.values, palette='pastel')\n",
    "plt.title('Доля конверсии по группам')\n",
    "plt.xlabel('Группа')\n",
    "plt.ylabel('Доля конверсии')\n",
    "plt.xticks([0, 1], ['Control', 'Treatment'])\n",
    "\n",
    "# Добавляем значения\n",
    "for i, rate in enumerate(conversion_rates):\n",
    "    plt.text(i, rate + 0.005, f'{rate:.3f}', ha='center', va='bottom')\n",
    "\n",
    "# График 2: Абсолютные значения конверсии\n",
    "plt.subplot(1, 2, 2)\n",
    "conversion_counts = df.groupby('treatment')['target'].value_counts().unstack()\n",
    "sns.barplot(conversion_counts, palette=['lightgray', 'lightgreen'])\n",
    "plt.title('Абсолютные значения конверсии')\n",
    "plt.xlabel('Группа')\n",
    "plt.ylabel('Количество клиентов')\n",
    "plt.xticks([0, 1], ['Control', 'Treatment'])\n",
    "plt.legend(['Не конвертировали', 'Конвертировали'])\n",
    "\n",
    "sns.despine()\n",
    "plt.grid(axis='y', alpha=0.3)\n",
    "\n",
    "plt.tight_layout()\n",
    "plt.show()\n",
    "\n",
    "# Простая статистика\n",
    "control_conv = conversion_rates[0]\n",
    "treatment_conv = conversion_rates[1]\n",
    "\n",
    "print(\"Анализ конверсии:\")\n",
    "print(f\"Control: {control_conv:.3f} ({conversion_counts.loc[0, 1]}/{(df['treatment'] == 0).sum()})\")\n",
    "print(f\"Treatment: {treatment_conv:.3f} ({conversion_counts.loc[1, 1]}/{(df['treatment'] == 1).sum()})\")\n",
    "print(f\"Разница: {treatment_conv - control_conv:.4f}\")\n",
    "print(f\"Относительное улучшение: {(treatment_conv - control_conv)/control_conv*100:.1f}%\")"
   ]
  },
  {
   "cell_type": "markdown",
   "metadata": {},
   "source": [
    "Сделайте вывод на основе EDA в данной ячейке  \n",
    "\n",
    "\n",
    "***Вывод:***  \n",
    "- Несбалансированность групп: Treatment group в 2 раза меньше control group (21,387 vs 42,613).  \n",
    "- Небольшой положительный эффект: Промокод дает прирост конверсии на 0.69% в абсолютном выражении и 4.8% в относительном.  \n",
    "- Статистическая значимость: Несмотря на видимый прирост, необходимо проверить, является ли эта разница статистически значимой (p-value < 0.05) или она могла возникнуть случайно.  \n",
    "- Бизнес-значимость: Даже небольшое увеличение конверсии на 0.69% может быть экономически значимым для бизнеса, учитывая масштаб Яндекс.Еды.  \n",
    "\n",
    "- Есть основания предполагать, что промокод оказывает положительное влияние на конверсию. Однако для окончательных выводов необходима проверка статистической значимости этих различий, которая будет проведена на следующем этапе."
   ]
  },
  {
   "cell_type": "markdown",
   "metadata": {},
   "source": [
    "# Этап 2"
   ]
  },
  {
   "cell_type": "markdown",
   "metadata": {},
   "source": [
    "### Проверка на статистическую значимость"
   ]
  },
  {
   "cell_type": "markdown",
   "metadata": {},
   "source": [
    "Обоснуйте выбор статистического теста в данной ячейке"
   ]
  },
  {
   "cell_type": "markdown",
   "metadata": {},
   "source": [
    "### Формулирование гипотез \n",
    "\n",
    "***Нулевая гипотеза (H₀)***  \n",
    "Промокод не оказывает влияния на конверсию  \n",
    "\n",
    "H₀: p_t = p_c  \n",
    "где:  \n",
    "p_t - конверсия в treatment group (получили промокод)  \n",
    "p_c - конверсия в control group (не получили промокод)  \n",
    "\n",
    "***Альтернативная гипотеза (H₁)***  \n",
    "Промокод оказывает положительное влияние на конверсию  \n",
    "H₁: p_t > p_c"
   ]
  },
  {
   "cell_type": "code",
   "execution_count": 9,
   "metadata": {},
   "outputs": [
    {
     "name": "stdout",
     "output_type": "stream",
     "text": [
      "Конверсия по группам:\n",
      "Treatment группа: 0.1514 (3238/21387)\n",
      "Control группа: 0.1445 (6156/42613)\n",
      "Абсолютная разница: 0.0069\n",
      "Относительное улучшение: 4.8%\n"
     ]
    }
   ],
   "source": [
    "# Разделяем данные на группы\n",
    "control_group = df[df['treatment'] == 0]\n",
    "treatment_group = df[df['treatment'] == 1]\n",
    "\n",
    "# Расчет конверсии\n",
    "p_t = treatment_group['target'].mean()  # Treatment conversion\n",
    "p_c = control_group['target'].mean()    # Control conversion\n",
    "\n",
    "print(\"Конверсия по группам:\")\n",
    "print(f\"Treatment группа: {p_t:.4f} ({treatment_group['target'].sum()}/{len(treatment_group)})\")\n",
    "print(f\"Control группа: {p_c:.4f} ({control_group['target'].sum()}/{len(control_group)})\")\n",
    "print(f\"Абсолютная разница: {p_t - p_c:.4f}\")\n",
    "print(f\"Относительное улучшение: {(p_t - p_c)/p_c*100:.1f}%\")"
   ]
  },
  {
   "cell_type": "code",
   "execution_count": 10,
   "metadata": {},
   "outputs": [
    {
     "name": "stdout",
     "output_type": "stream",
     "text": [
      "\n",
      "Результаты статистического теста:\n",
      "Z-score: 2.3244\n",
      "P-value: 0.010051\n",
      "95% доверительный интервал: [0.0011, 0.0128]\n"
     ]
    }
   ],
   "source": [
    "# Расчет стандартных ошибок\n",
    "n_t = len(treatment_group)\n",
    "n_c = len(control_group)\n",
    "\n",
    "sigma_t = np.sqrt(p_t * (1 - p_t) / n_t)\n",
    "sigma_c = np.sqrt(p_c * (1 - p_c) / n_c)\n",
    "\n",
    "# Z-тест для разницы пропорций\n",
    "mu = p_t - p_c\n",
    "sigma = np.sqrt(p_t * (1 - p_t) / n_t + p_c * (1 - p_c) / n_c)\n",
    "z_score = mu / sigma\n",
    "\n",
    "# Расчет p-value (односторонний тест)\n",
    "p_value = 1 - stats.norm.cdf(z_score)\n",
    "\n",
    "# Доверительный интервал\n",
    "confidence_level = 0.95\n",
    "z_critical = stats.norm.ppf(1 - (1 - confidence_level)/2)\n",
    "ci_lower = mu - z_critical * sigma\n",
    "ci_upper = mu + z_critical * sigma\n",
    "\n",
    "print(\"\\nРезультаты статистического теста:\")\n",
    "print(f\"Z-score: {z_score:.4f}\")\n",
    "print(f\"P-value: {p_value:.6f}\")\n",
    "print(f\"95% доверительный интервал: [{ci_lower:.4f}, {ci_upper:.4f}]\")"
   ]
  },
  {
   "cell_type": "markdown",
   "metadata": {},
   "source": [
    "***Вывод***  \n",
    "Статистическая значимость:  \n",
    "- P-value = 0.010 < 0.05 - статистически значимые различия  \n",
    "- Z-score = 2.3244 > 1.96 - превышает критическое значение для 95% уровня доверия  \n",
    "\n",
    "Практическая значимость:  \n",
    "- Абсолютное улучшение: +0.69% конверсии  \n",
    "- Относительное улучшение: +4.8%  \n",
    "- Доверительный интервал: [0.11%, 1.28%] - не включает ноль  \n",
    "\n",
    "Статистическое решение:  \n",
    "- Поскольку p-value = 0.010  < 0.05 и Z-score = 2.3244 > 1.96 - отвергаем нулевую гипотезу (H₀) и принимаем альтернативную гипотезу (H₁)  \n",
    "\n",
    "\n",
    "С вероятностью ошибки в 1% (p-value = 0.010) можно утверждать, что промокод на 500 рублей действительно увеличивает конверсию пользователей Яндекс.Еды\n",
    "Промокод оказал статистически значимое положительное влияние на конверсию"
   ]
  },
  {
   "cell_type": "markdown",
   "metadata": {},
   "source": [
    "## Построение корреляций"
   ]
  },
  {
   "cell_type": "code",
   "execution_count": 11,
   "metadata": {},
   "outputs": [
    {
     "data": {
      "image/png": "[encoded data removed]",
      "text/plain": [
       "<Figure size 1000x800 with 2 Axes>"
      ]
     },
     "metadata": {},
     "output_type": "display_data"
    }
   ],
   "source": [
    "# Корреляционный анализ - простой и эффективный подход\n",
    "plt.figure(figsize=(10, 8))\n",
    "corr_matrix = df.corr(numeric_only=True)\n",
    "sns.heatmap(corr_matrix, annot=True, cmap='coolwarm', center=0, fmt='.2f')\n",
    "plt.title('Матрица корреляций между признаками', fontsize=14, pad=20)\n",
    "plt.tight_layout()\n",
    "plt.show()"
   ]
  },
  {
   "cell_type": "code",
   "execution_count": 12,
   "metadata": {},
   "outputs": [
    {
     "name": "stdout",
     "output_type": "stream",
     "text": [
      "Корреляции с целевой переменной (target):\n",
      "recency: -0.075\n",
      "newbie: -0.074\n",
      "history_segment: 0.070\n",
      "history: 0.065\n",
      "womens: 0.052\n",
      "zip_code: 0.038\n",
      "channel: 0.011\n",
      "treatment: 0.009\n",
      "mens: 0.007\n"
     ]
    }
   ],
   "source": [
    "# Анализируем корреляции с целевой переменной\n",
    "print(\"Корреляции с целевой переменной (target):\")\n",
    "target_correlations = corr_matrix['target'].sort_values(key=abs, ascending=False)\n",
    "for feature, correlation in target_correlations.items():\n",
    "    if feature != 'target':  # Исключаем сам target\n",
    "        print(f\"{feature}: {correlation:.3f}\")"
   ]
  },
  {
   "cell_type": "markdown",
   "metadata": {},
   "source": [
    "Сделайте вывод о корреляциях признаков друг с другом и таргетом в этой ячейке  \n",
    "\n",
    "\n",
    "***Вывод:***  \n",
    "\n",
    "1. Самые сильные корреляции с целевой переменной (target):  \n",
    "- recency: -0.07 - слабая отрицательная связь  \n",
    "- history: 0.07 - слабая положительная связь  \n",
    "- history_segment: 0.07 - слабая положительная связь  \n",
    "- newbie: -0.07 - слабая отрицательная связь  \n",
    "- womens: 0.05 -  статистически значимая положительная связь(гендерные различия) \n",
    "- zip_code: 0.04 -  статистически значимая положительная связь (география (город/пригород/село) может быть важным фактором для таргетирования промокодов)  \n",
    "- mens: 0.01 - очень слабая связь  \n",
    "- channel: 0.01 - очень слабая связь\n",
    "- treatment: 0.01 - очень слабая связь\n",
    "\n",
    "2. Сильные взаимосвязи между признаками:  \n",
    "- history_segment и history: 0.94 - сильная связь (ожидаемо)  \n",
    "- mens и womens: -0.82 - сильная отрицательная связь (ожидаемо - клиенты обычно покупают либо мужские, либо женские товары). Важно, что это не мультиколлинеарность в классическом смысле, а две разные поведенческие характеристики  \n",
    "- recency и history: -0.25 - умеренная отрицательная связь  \n",
    "- recency и history_segment: -0.24 - умеренная отрицательная связь\n",
    "\n",
    "3. Неожиданные находки:  \n",
    "- treatment почти не коррелирует с другими признаками (хорошо для A/B теста)  \n",
    "- channel показывает умеренные связи с history_segment (-0.32) и history (-0.29)\n",
    "\n",
    "4. Интерпретация для бизнеса:  \n",
    "- История покупок (history, history_segment) - наиболее информативные признаки  \n",
    "- Недавние покупки (recency) слабо связаны с конверсией  \n",
    "- Новые клиенты (newbie) slightly менее склонны к конверсии   \n",
    "- Гендерные предпочтения (mens/womens) сильно взаимосвязаны  \n",
    "- Промокод (treatment) распределен случайно (корреляции ~0)\n",
    "\n",
    "5. Рекомендации для моделирования:  \n",
    "- history / history_segment (сильно коррелируют между собой - выбрать один)  \n",
    "- recency - индикатор активности  \n",
    "- newbie - статус клиента  \n",
    "- womens - гендерный фактор  \n",
    "- zip_code - географический фактор  \n",
    "- channel - канальные предпочтения  \n",
    "\n",
    "Все выявленные связи, несмотря на кажущуюся слабость, являются статистически значимыми благодаря большому объему данных (n=64,000), что делает их ценными для прогнозного моделирования.\n",
    "Анализ выявил нетривиальные взаимосвязи, которые могут значительно улучшить точность uplift-модели и эффективность маркетинговых кампаний."
   ]
  },
  {
   "cell_type": "markdown",
   "metadata": {},
   "source": [
    "## Этап 3"
   ]
  },
  {
   "cell_type": "markdown",
   "metadata": {},
   "source": [
    "Обоснуйте выбор конкретной uplift модели в данной ячейке"
   ]
  },
  {
   "cell_type": "markdown",
   "metadata": {},
   "source": [
    "### Советы по обучению и инференсу моделей\n",
    "1. Некоторые uplift модели из библиотеки `causalml` будут требовать категориальные значения воздействия. Для этого используйте маппинг\n",
    "#### Пример использования маппинга\n",
    "```python\n",
    "treatment_mapping = {\n",
    "    0: 'control',\n",
    "    1: 'treatment'\n",
    "}\n",
    "treatment_train_mapped = treatment_train.map(treatment_mapping)\n",
    "treatment_test_mapped = treatment_test.map(treatment_mapping)\n",
    "```\n",
    "\n",
    "2. При вызове метода `.predict` и получения метрик для тестовой выборки не забывайте применять к прогнозам метод `squeeze()`, чтобы преобразовать многомерный массив в одномерный, что поможет получить адекватные метрики.\n",
    "\n",
    "3. Для воспроизводимости результатов и объективной оценки не забывайте применять `random_state=42` для моделей, а также при разделении выборки"
   ]
  },
  {
   "cell_type": "markdown",
   "metadata": {},
   "source": [
    "### Разбиение выборки на тренировочную и тестовую"
   ]
  },
  {
   "cell_type": "code",
   "execution_count": null,
   "metadata": {},
   "outputs": [],
   "source": []
  },
  {
   "cell_type": "markdown",
   "metadata": {},
   "source": [
    "### Обучение выбранного бейзлайна"
   ]
  },
  {
   "cell_type": "code",
   "execution_count": null,
   "metadata": {},
   "outputs": [],
   "source": []
  },
  {
   "cell_type": "markdown",
   "metadata": {},
   "source": [
    "### Расчет метрик для выбранного бейзлайна на тестовой выборке"
   ]
  },
  {
   "cell_type": "code",
   "execution_count": null,
   "metadata": {},
   "outputs": [],
   "source": []
  },
  {
   "cell_type": "markdown",
   "metadata": {},
   "source": [
    "# Обучение 2 моделей "
   ]
  },
  {
   "cell_type": "markdown",
   "metadata": {},
   "source": [
    "### Обучение модели 1"
   ]
  },
  {
   "cell_type": "code",
   "execution_count": null,
   "metadata": {},
   "outputs": [],
   "source": []
  },
  {
   "cell_type": "markdown",
   "metadata": {},
   "source": [
    "### Получение метрик по модели 1"
   ]
  },
  {
   "cell_type": "code",
   "execution_count": null,
   "metadata": {},
   "outputs": [],
   "source": []
  },
  {
   "cell_type": "markdown",
   "metadata": {},
   "source": [
    "### Обучение модели 2"
   ]
  },
  {
   "cell_type": "code",
   "execution_count": null,
   "metadata": {},
   "outputs": [],
   "source": []
  },
  {
   "cell_type": "markdown",
   "metadata": {},
   "source": [
    "### Получение метрик по модели 2"
   ]
  },
  {
   "cell_type": "code",
   "execution_count": null,
   "metadata": {},
   "outputs": [],
   "source": []
  },
  {
   "cell_type": "markdown",
   "metadata": {},
   "source": [
    "Проинтерпретируйте полученные результаты и обоснуйте выбор 1 модели в этой ячейке"
   ]
  },
  {
   "cell_type": "markdown",
   "metadata": {},
   "source": [
    "# Часть 2"
   ]
  },
  {
   "cell_type": "markdown",
   "metadata": {},
   "source": [
    "## Этап 1\n",
    "Улучшите бейзлайн выбранной модели"
   ]
  },
  {
   "cell_type": "code",
   "execution_count": null,
   "metadata": {},
   "outputs": [],
   "source": []
  },
  {
   "cell_type": "markdown",
   "metadata": {},
   "source": [
    "#### Генерация признаков (опционально)"
   ]
  },
  {
   "cell_type": "code",
   "execution_count": null,
   "metadata": {},
   "outputs": [],
   "source": []
  },
  {
   "cell_type": "markdown",
   "metadata": {},
   "source": [
    "### Подбор гиперпараметров"
   ]
  },
  {
   "cell_type": "code",
   "execution_count": 13,
   "metadata": {},
   "outputs": [
    {
     "name": "stderr",
     "output_type": "stream",
     "text": [
      "[I 2025-09-17 07:04:27,549] A new study created in memory with name: no-name-5a430755-b050-4ca9-9e8d-94c3cf187a5c\n",
      "[W 2025-09-17 07:04:27,550] Trial 0 failed with parameters: {} because of the following error: NameError(\"name 'y_test' is not defined\").\n",
      "Traceback (most recent call last):\n",
      "  File \"/home/mle-user/mle_projects/mle-sprint5-uplift/.uplift_env/lib/python3.10/site-packages/optuna/study/_optimize.py\", line 201, in _run_trial\n",
      "    value_or_values = func(trial)\n",
      "  File \"/tmp/ipykernel_3527/2685810187.py\", line 7, in objective\n",
      "    uplift_at_30 = uplift_at_k(y_test, uplift_pred, treatment_test, k=0.3, strategy='overall')\n",
      "NameError: name 'y_test' is not defined\n",
      "[W 2025-09-17 07:04:27,553] Trial 0 failed with value None.\n"
     ]
    },
    {
     "ename": "NameError",
     "evalue": "name 'y_test' is not defined",
     "output_type": "error",
     "traceback": [
      "\u001b[0;31m---------------------------------------------------------------------------\u001b[0m",
      "\u001b[0;31mNameError\u001b[0m                                 Traceback (most recent call last)",
      "Cell \u001b[0;32mIn[13], line 12\u001b[0m\n\u001b[1;32m     10\u001b[0m \u001b[38;5;66;03m# Создаем и запускаем исследование\u001b[39;00m\n\u001b[1;32m     11\u001b[0m study \u001b[38;5;241m=\u001b[39m create_study(direction\u001b[38;5;241m=\u001b[39m\u001b[38;5;124m'\u001b[39m\u001b[38;5;124mmaximize\u001b[39m\u001b[38;5;124m'\u001b[39m)\n\u001b[0;32m---> 12\u001b[0m \u001b[43mstudy\u001b[49m\u001b[38;5;241;43m.\u001b[39;49m\u001b[43moptimize\u001b[49m\u001b[43m(\u001b[49m\u001b[43mobjective\u001b[49m\u001b[43m,\u001b[49m\u001b[43m \u001b[49m\u001b[43mn_trials\u001b[49m\u001b[38;5;241;43m=\u001b[39;49m\u001b[38;5;241;43m100\u001b[39;49m\u001b[43m)\u001b[49m\n\u001b[1;32m     14\u001b[0m \u001b[38;5;66;03m# Выводим лучшие гиперпараметры\u001b[39;00m\n\u001b[1;32m     15\u001b[0m \u001b[38;5;28mprint\u001b[39m(\u001b[38;5;124m\"\u001b[39m\u001b[38;5;124mBest hyperparameters: \u001b[39m\u001b[38;5;124m\"\u001b[39m, study\u001b[38;5;241m.\u001b[39mbest_params)\n",
      "File \u001b[0;32m~/mle_projects/mle-sprint5-uplift/.uplift_env/lib/python3.10/site-packages/optuna/study/study.py:489\u001b[0m, in \u001b[0;36mStudy.optimize\u001b[0;34m(self, func, n_trials, timeout, n_jobs, catch, callbacks, gc_after_trial, show_progress_bar)\u001b[0m\n\u001b[1;32m    387\u001b[0m \u001b[38;5;28;01mdef\u001b[39;00m\u001b[38;5;250m \u001b[39m\u001b[38;5;21moptimize\u001b[39m(\n\u001b[1;32m    388\u001b[0m     \u001b[38;5;28mself\u001b[39m,\n\u001b[1;32m    389\u001b[0m     func: ObjectiveFuncType,\n\u001b[0;32m   (...)\u001b[0m\n\u001b[1;32m    396\u001b[0m     show_progress_bar: \u001b[38;5;28mbool\u001b[39m \u001b[38;5;241m=\u001b[39m \u001b[38;5;28;01mFalse\u001b[39;00m,\n\u001b[1;32m    397\u001b[0m ) \u001b[38;5;241m-\u001b[39m\u001b[38;5;241m>\u001b[39m \u001b[38;5;28;01mNone\u001b[39;00m:\n\u001b[1;32m    398\u001b[0m \u001b[38;5;250m    \u001b[39m\u001b[38;5;124;03m\"\"\"Optimize an objective function.\u001b[39;00m\n\u001b[1;32m    399\u001b[0m \n\u001b[1;32m    400\u001b[0m \u001b[38;5;124;03m    Optimization is done by choosing a suitable set of hyperparameter values from a given\u001b[39;00m\n\u001b[0;32m   (...)\u001b[0m\n\u001b[1;32m    487\u001b[0m \u001b[38;5;124;03m            If nested invocation of this method occurs.\u001b[39;00m\n\u001b[1;32m    488\u001b[0m \u001b[38;5;124;03m    \"\"\"\u001b[39;00m\n\u001b[0;32m--> 489\u001b[0m     \u001b[43m_optimize\u001b[49m\u001b[43m(\u001b[49m\n\u001b[1;32m    490\u001b[0m \u001b[43m        \u001b[49m\u001b[43mstudy\u001b[49m\u001b[38;5;241;43m=\u001b[39;49m\u001b[38;5;28;43mself\u001b[39;49m\u001b[43m,\u001b[49m\n\u001b[1;32m    491\u001b[0m \u001b[43m        \u001b[49m\u001b[43mfunc\u001b[49m\u001b[38;5;241;43m=\u001b[39;49m\u001b[43mfunc\u001b[49m\u001b[43m,\u001b[49m\n\u001b[1;32m    492\u001b[0m \u001b[43m        \u001b[49m\u001b[43mn_trials\u001b[49m\u001b[38;5;241;43m=\u001b[39;49m\u001b[43mn_trials\u001b[49m\u001b[43m,\u001b[49m\n\u001b[1;32m    493\u001b[0m \u001b[43m        \u001b[49m\u001b[43mtimeout\u001b[49m\u001b[38;5;241;43m=\u001b[39;49m\u001b[43mtimeout\u001b[49m\u001b[43m,\u001b[49m\n\u001b[1;32m    494\u001b[0m \u001b[43m        \u001b[49m\u001b[43mn_jobs\u001b[49m\u001b[38;5;241;43m=\u001b[39;49m\u001b[43mn_jobs\u001b[49m\u001b[43m,\u001b[49m\n\u001b[1;32m    495\u001b[0m \u001b[43m        \u001b[49m\u001b[43mcatch\u001b[49m\u001b[38;5;241;43m=\u001b[39;49m\u001b[38;5;28;43mtuple\u001b[39;49m\u001b[43m(\u001b[49m\u001b[43mcatch\u001b[49m\u001b[43m)\u001b[49m\u001b[43m \u001b[49m\u001b[38;5;28;43;01mif\u001b[39;49;00m\u001b[43m \u001b[49m\u001b[38;5;28;43misinstance\u001b[39;49m\u001b[43m(\u001b[49m\u001b[43mcatch\u001b[49m\u001b[43m,\u001b[49m\u001b[43m \u001b[49m\u001b[43mIterable\u001b[49m\u001b[43m)\u001b[49m\u001b[43m \u001b[49m\u001b[38;5;28;43;01melse\u001b[39;49;00m\u001b[43m \u001b[49m\u001b[43m(\u001b[49m\u001b[43mcatch\u001b[49m\u001b[43m,\u001b[49m\u001b[43m)\u001b[49m\u001b[43m,\u001b[49m\n\u001b[1;32m    496\u001b[0m \u001b[43m        \u001b[49m\u001b[43mcallbacks\u001b[49m\u001b[38;5;241;43m=\u001b[39;49m\u001b[43mcallbacks\u001b[49m\u001b[43m,\u001b[49m\n\u001b[1;32m    497\u001b[0m \u001b[43m        \u001b[49m\u001b[43mgc_after_trial\u001b[49m\u001b[38;5;241;43m=\u001b[39;49m\u001b[43mgc_after_trial\u001b[49m\u001b[43m,\u001b[49m\n\u001b[1;32m    498\u001b[0m \u001b[43m        \u001b[49m\u001b[43mshow_progress_bar\u001b[49m\u001b[38;5;241;43m=\u001b[39;49m\u001b[43mshow_progress_bar\u001b[49m\u001b[43m,\u001b[49m\n\u001b[1;32m    499\u001b[0m \u001b[43m    \u001b[49m\u001b[43m)\u001b[49m\n",
      "File \u001b[0;32m~/mle_projects/mle-sprint5-uplift/.uplift_env/lib/python3.10/site-packages/optuna/study/_optimize.py:64\u001b[0m, in \u001b[0;36m_optimize\u001b[0;34m(study, func, n_trials, timeout, n_jobs, catch, callbacks, gc_after_trial, show_progress_bar)\u001b[0m\n\u001b[1;32m     62\u001b[0m \u001b[38;5;28;01mtry\u001b[39;00m:\n\u001b[1;32m     63\u001b[0m     \u001b[38;5;28;01mif\u001b[39;00m n_jobs \u001b[38;5;241m==\u001b[39m \u001b[38;5;241m1\u001b[39m:\n\u001b[0;32m---> 64\u001b[0m         \u001b[43m_optimize_sequential\u001b[49m\u001b[43m(\u001b[49m\n\u001b[1;32m     65\u001b[0m \u001b[43m            \u001b[49m\u001b[43mstudy\u001b[49m\u001b[43m,\u001b[49m\n\u001b[1;32m     66\u001b[0m \u001b[43m            \u001b[49m\u001b[43mfunc\u001b[49m\u001b[43m,\u001b[49m\n\u001b[1;32m     67\u001b[0m \u001b[43m            \u001b[49m\u001b[43mn_trials\u001b[49m\u001b[43m,\u001b[49m\n\u001b[1;32m     68\u001b[0m \u001b[43m            \u001b[49m\u001b[43mtimeout\u001b[49m\u001b[43m,\u001b[49m\n\u001b[1;32m     69\u001b[0m \u001b[43m            \u001b[49m\u001b[43mcatch\u001b[49m\u001b[43m,\u001b[49m\n\u001b[1;32m     70\u001b[0m \u001b[43m            \u001b[49m\u001b[43mcallbacks\u001b[49m\u001b[43m,\u001b[49m\n\u001b[1;32m     71\u001b[0m \u001b[43m            \u001b[49m\u001b[43mgc_after_trial\u001b[49m\u001b[43m,\u001b[49m\n\u001b[1;32m     72\u001b[0m \u001b[43m            \u001b[49m\u001b[43mreseed_sampler_rng\u001b[49m\u001b[38;5;241;43m=\u001b[39;49m\u001b[38;5;28;43;01mFalse\u001b[39;49;00m\u001b[43m,\u001b[49m\n\u001b[1;32m     73\u001b[0m \u001b[43m            \u001b[49m\u001b[43mtime_start\u001b[49m\u001b[38;5;241;43m=\u001b[39;49m\u001b[38;5;28;43;01mNone\u001b[39;49;00m\u001b[43m,\u001b[49m\n\u001b[1;32m     74\u001b[0m \u001b[43m            \u001b[49m\u001b[43mprogress_bar\u001b[49m\u001b[38;5;241;43m=\u001b[39;49m\u001b[43mprogress_bar\u001b[49m\u001b[43m,\u001b[49m\n\u001b[1;32m     75\u001b[0m \u001b[43m        \u001b[49m\u001b[43m)\u001b[49m\n\u001b[1;32m     76\u001b[0m     \u001b[38;5;28;01melse\u001b[39;00m:\n\u001b[1;32m     77\u001b[0m         \u001b[38;5;28;01mif\u001b[39;00m n_jobs \u001b[38;5;241m==\u001b[39m \u001b[38;5;241m-\u001b[39m\u001b[38;5;241m1\u001b[39m:\n",
      "File \u001b[0;32m~/mle_projects/mle-sprint5-uplift/.uplift_env/lib/python3.10/site-packages/optuna/study/_optimize.py:161\u001b[0m, in \u001b[0;36m_optimize_sequential\u001b[0;34m(study, func, n_trials, timeout, catch, callbacks, gc_after_trial, reseed_sampler_rng, time_start, progress_bar)\u001b[0m\n\u001b[1;32m    158\u001b[0m         \u001b[38;5;28;01mbreak\u001b[39;00m\n\u001b[1;32m    160\u001b[0m \u001b[38;5;28;01mtry\u001b[39;00m:\n\u001b[0;32m--> 161\u001b[0m     frozen_trial \u001b[38;5;241m=\u001b[39m \u001b[43m_run_trial\u001b[49m\u001b[43m(\u001b[49m\u001b[43mstudy\u001b[49m\u001b[43m,\u001b[49m\u001b[43m \u001b[49m\u001b[43mfunc\u001b[49m\u001b[43m,\u001b[49m\u001b[43m \u001b[49m\u001b[43mcatch\u001b[49m\u001b[43m)\u001b[49m\n\u001b[1;32m    162\u001b[0m \u001b[38;5;28;01mfinally\u001b[39;00m:\n\u001b[1;32m    163\u001b[0m     \u001b[38;5;66;03m# The following line mitigates memory problems that can be occurred in some\u001b[39;00m\n\u001b[1;32m    164\u001b[0m     \u001b[38;5;66;03m# environments (e.g., services that use computing containers such as GitHub Actions).\u001b[39;00m\n\u001b[1;32m    165\u001b[0m     \u001b[38;5;66;03m# Please refer to the following PR for further details:\u001b[39;00m\n\u001b[1;32m    166\u001b[0m     \u001b[38;5;66;03m# https://github.com/optuna/optuna/pull/325.\u001b[39;00m\n\u001b[1;32m    167\u001b[0m     \u001b[38;5;28;01mif\u001b[39;00m gc_after_trial:\n",
      "File \u001b[0;32m~/mle_projects/mle-sprint5-uplift/.uplift_env/lib/python3.10/site-packages/optuna/study/_optimize.py:253\u001b[0m, in \u001b[0;36m_run_trial\u001b[0;34m(study, func, catch)\u001b[0m\n\u001b[1;32m    246\u001b[0m         \u001b[38;5;28;01massert\u001b[39;00m \u001b[38;5;28;01mFalse\u001b[39;00m, \u001b[38;5;124m\"\u001b[39m\u001b[38;5;124mShould not reach.\u001b[39m\u001b[38;5;124m\"\u001b[39m\n\u001b[1;32m    248\u001b[0m \u001b[38;5;28;01mif\u001b[39;00m (\n\u001b[1;32m    249\u001b[0m     frozen_trial\u001b[38;5;241m.\u001b[39mstate \u001b[38;5;241m==\u001b[39m TrialState\u001b[38;5;241m.\u001b[39mFAIL\n\u001b[1;32m    250\u001b[0m     \u001b[38;5;129;01mand\u001b[39;00m func_err \u001b[38;5;129;01mis\u001b[39;00m \u001b[38;5;129;01mnot\u001b[39;00m \u001b[38;5;28;01mNone\u001b[39;00m\n\u001b[1;32m    251\u001b[0m     \u001b[38;5;129;01mand\u001b[39;00m \u001b[38;5;129;01mnot\u001b[39;00m \u001b[38;5;28misinstance\u001b[39m(func_err, catch)\n\u001b[1;32m    252\u001b[0m ):\n\u001b[0;32m--> 253\u001b[0m     \u001b[38;5;28;01mraise\u001b[39;00m func_err\n\u001b[1;32m    254\u001b[0m \u001b[38;5;28;01mreturn\u001b[39;00m frozen_trial\n",
      "File \u001b[0;32m~/mle_projects/mle-sprint5-uplift/.uplift_env/lib/python3.10/site-packages/optuna/study/_optimize.py:201\u001b[0m, in \u001b[0;36m_run_trial\u001b[0;34m(study, func, catch)\u001b[0m\n\u001b[1;32m    199\u001b[0m \u001b[38;5;28;01mwith\u001b[39;00m get_heartbeat_thread(trial\u001b[38;5;241m.\u001b[39m_trial_id, study\u001b[38;5;241m.\u001b[39m_storage):\n\u001b[1;32m    200\u001b[0m     \u001b[38;5;28;01mtry\u001b[39;00m:\n\u001b[0;32m--> 201\u001b[0m         value_or_values \u001b[38;5;241m=\u001b[39m \u001b[43mfunc\u001b[49m\u001b[43m(\u001b[49m\u001b[43mtrial\u001b[49m\u001b[43m)\u001b[49m\n\u001b[1;32m    202\u001b[0m     \u001b[38;5;28;01mexcept\u001b[39;00m exceptions\u001b[38;5;241m.\u001b[39mTrialPruned \u001b[38;5;28;01mas\u001b[39;00m e:\n\u001b[1;32m    203\u001b[0m         \u001b[38;5;66;03m# TODO(mamu): Handle multi-objective cases.\u001b[39;00m\n\u001b[1;32m    204\u001b[0m         state \u001b[38;5;241m=\u001b[39m TrialState\u001b[38;5;241m.\u001b[39mPRUNED\n",
      "Cell \u001b[0;32mIn[13], line 7\u001b[0m, in \u001b[0;36mobjective\u001b[0;34m(trial)\u001b[0m\n\u001b[1;32m      4\u001b[0m \u001b[38;5;28;01mdef\u001b[39;00m\u001b[38;5;250m \u001b[39m\u001b[38;5;21mobjective\u001b[39m(trial):\n\u001b[1;32m      5\u001b[0m     \u001b[38;5;66;03m# Дополните код для подбора гиперпараметров\u001b[39;00m\n\u001b[0;32m----> 7\u001b[0m     uplift_at_30 \u001b[38;5;241m=\u001b[39m uplift_at_k(\u001b[43my_test\u001b[49m, uplift_pred, treatment_test, k\u001b[38;5;241m=\u001b[39m\u001b[38;5;241m0.3\u001b[39m, strategy\u001b[38;5;241m=\u001b[39m\u001b[38;5;124m'\u001b[39m\u001b[38;5;124moverall\u001b[39m\u001b[38;5;124m'\u001b[39m)\n\u001b[1;32m      8\u001b[0m     \u001b[38;5;28;01mreturn\u001b[39;00m uplift_at_30\n",
      "\u001b[0;31mNameError\u001b[0m: name 'y_test' is not defined"
     ]
    }
   ],
   "source": [
    "from optuna import create_study\n",
    "from sklift.metrics import uplift_at_k\n",
    "\n",
    "def objective(trial):\n",
    "    # Дополните код для подбора гиперпараметров\n",
    "\n",
    "    uplift_at_30 = uplift_at_k(y_test, uplift_pred, treatment_test, k=0.3, strategy='overall')\n",
    "    return uplift_at_30\n",
    "\n",
    "# Создаем и запускаем исследование\n",
    "study = create_study(direction='maximize')\n",
    "study.optimize(objective, n_trials=100)\n",
    "\n",
    "# Выводим лучшие гиперпараметры\n",
    "print(\"Best hyperparameters: \", study.best_params)\n",
    "print(\"Best score: \", study.best_value)\n"
   ]
  },
  {
   "cell_type": "markdown",
   "metadata": {},
   "source": [
    "## Этап 2"
   ]
  },
  {
   "cell_type": "markdown",
   "metadata": {},
   "source": [
    "### Визуализация результатов"
   ]
  },
  {
   "cell_type": "code",
   "execution_count": null,
   "metadata": {},
   "outputs": [],
   "source": [
    "from utils import custom_uplift_by_percentile"
   ]
  },
  {
   "cell_type": "code",
   "execution_count": null,
   "metadata": {},
   "outputs": [],
   "source": []
  },
  {
   "cell_type": "code",
   "execution_count": null,
   "metadata": {},
   "outputs": [],
   "source": []
  },
  {
   "cell_type": "markdown",
   "metadata": {},
   "source": [
    "В данной ячейке сделайте вывод о качестве работы модели и проинтерпретируйте график `uplift by percentile` "
   ]
  },
  {
   "cell_type": "markdown",
   "metadata": {},
   "source": [
    "# Этап 3"
   ]
  },
  {
   "cell_type": "code",
   "execution_count": null,
   "metadata": {},
   "outputs": [],
   "source": [
    "# Класс для инференса модели\n",
    "class UpliftModelInference:\n",
    "    \"\"\"\n",
    "    Класс для инференса uplift модели.\n",
    "    \"\"\"\n",
    "    \n",
    "    def __init__(self, model, feature_names, logger=None):\n",
    "        \"\"\"\n",
    "        Инициализация класса.\n",
    "        \n",
    "        Аргументы:\n",
    "            model: Обученная модель uplift\n",
    "            feature_names: Список признаков для предсказания \n",
    "            logger: Объект для логирования (по умолчанию None)\n",
    "        \"\"\"\n",
    "        self.model = model\n",
    "        self.feature_names = ['recency', 'history_segment', 'history', 'mens', 'womens', 'zip_code', 'newbie', 'channel']\n",
    "        self.logger = logger\n",
    "        \n",
    "        if self.logger:\n",
    "            self.logger.info(\"Модель UpliftModel инициализирована с признаками: %s\", feature_names)\n",
    "\n",
    "    def _transform_data(self, X):\n",
    "        \"\"\"\n",
    "        Преобразование данных для модели.\n",
    "        \n",
    "        Аргументы:\n",
    "            X: pandas.DataFrame с признаками\n",
    "        \"\"\"\n",
    "        if self.logger:\n",
    "            self.logger.debug(\"Преобразование входных данных размерности %s\", X.shape)\n",
    "\n",
    "        # реализуйте преобразование данных для модели,\n",
    "        # если в финальной модели используются новые признаки\n",
    "       \n",
    "\n",
    "        return X\n",
    "    \n",
    "    def predict(self, X):\n",
    "        \"\"\"\n",
    "        Получение предсказаний uplift.\n",
    "        \n",
    "        Аргументы:\n",
    "            X: pandas.DataFrame с признаками\n",
    "            \n",
    "        Возвращает:\n",
    "            numpy.array с предсказанными значениями uplift\n",
    "        \"\"\"\n",
    "        # Проверяем, что датафрейм не пустой\n",
    "        if X.empty:\n",
    "            if self.logger:\n",
    "                self.logger.error(\"Предоставлен пустой датафрейм\")\n",
    "            return None\n",
    "            \n",
    "        # Проверяем наличие пропущенных значений\n",
    "        if X.isnull().any().any():\n",
    "            if self.logger:\n",
    "                self.logger.error(\"Входные данные содержат пропущенные значения\")\n",
    "            return [None]*len(X)\n",
    "        \n",
    "        if self.logger:\n",
    "            self.logger.info(\"Выполняем предсказания для данных размерности %s\", X.shape)\n",
    "\n",
    "        # Проверяем наличие всех необходимых признаков\n",
    "        missing_features = set(self.feature_names) - set(X.columns)\n",
    "        if missing_features:\n",
    "            error_msg = f\"Отсутствуют признаки: {missing_features}\"\n",
    "            if self.logger:\n",
    "                self.logger.error(error_msg)\n",
    "\n",
    "            return [None]*len(X)\n",
    "        \n",
    "        # Преобразуем данные для модели\n",
    "        if self.logger:\n",
    "            self.logger.debug(\"Начинаем преобразование данных\")\n",
    "        X = self._transform_data(X)\n",
    "        \n",
    "        # Вычисляем uplift\n",
    "        if self.logger:\n",
    "            self.logger.debug(\"Выполняем предсказания модели\")\n",
    "        \n",
    "\n",
    "        # Дополните код для получения предсказаний аплифта\n",
    "\n",
    "        \n",
    "        if self.logger:\n",
    "            self.logger.info(\"Предсказания успешно завершены\")\n",
    "            \n",
    "        return uplift\n"
   ]
  },
  {
   "cell_type": "code",
   "execution_count": null,
   "metadata": {},
   "outputs": [],
   "source": [
    "model = UpliftModelInference(model= # ваш код,\n",
    "                             feature_names= # ваш код)"
   ]
  },
  {
   "cell_type": "code",
   "execution_count": null,
   "metadata": {},
   "outputs": [],
   "source": [
    "test_data = pd.DataFrame({\n",
    "            'recency': [1, 2, 3],\n",
    "            'history_segment': [1, 2, 3], \n",
    "            'history': [100, 200, 300],\n",
    "            'mens': [1, 0, 1],\n",
    "            'womens': [0, 1, 0],\n",
    "            'zip_code': [1, 0, 1],\n",
    "            'newbie': [0, 1, 0],\n",
    "            'channel': [1, 2, 0]\n",
    "        })"
   ]
  },
  {
   "cell_type": "code",
   "execution_count": null,
   "metadata": {},
   "outputs": [],
   "source": [
    "# проверка работы класса\n",
    "model.predict(test_data)"
   ]
  }
 ],
 "metadata": {
  "kernelspec": {
   "display_name": ".uplift_env",
   "language": "python",
   "name": "python3"
  },
  "language_info": {
   "codemirror_mode": {
    "name": "ipython",
    "version": 3
   },
   "file_extension": ".py",
   "mimetype": "text/x-python",
   "name": "python",
   "nbconvert_exporter": "python",
   "pygments_lexer": "ipython3",
   "version": "3.10.12"
  }
 },
 "nbformat": 4,
 "nbformat_minor": 2
}
